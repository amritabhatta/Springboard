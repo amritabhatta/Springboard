{
 "cells": [
  {
   "cell_type": "markdown",
   "metadata": {},
   "source": [
    "# Airlines Customer Satisfaction "
   ]
  },
  {
   "cell_type": "markdown",
   "metadata": {},
   "source": [
    "Customer satisfaction is always top of mind for airlines. Unhappy or disengaged customers naturally mean fewer passengers and less revenue. It’s important that customers have an excellent experience every time they travel. On-time flights, good in-flight entertainment, more (and better) snacks, and more legroom might be the obvious contributors to a good experience and more loyalty. While we might hear about those aspects the most, the customer experience is not about just the flight itself. It’s everything from purchasing the ticket on the company’s website or mobile app to checking bags in at the airport or via a mobile app to waiting in the terminal. Self-service has been top-of-mind for airlines since the introduction of airport kiosks that enable passengers to check-in, upgrade their seats, and even make flight changes. This mindset has been, and continues to be, adapted to the post-security, onboard, and post-flight experience.\n",
    "\n",
    "The objective of this project is to predict whether a future customer would be satisfied with their service given the details of the other parameters values. The actual name of the company is not given due to various purposes that's why the Airlines company name we refer to in this project is Invistico Airlines. Also, the airlines need to know which features need more attention to generate more satisfied customers. The exercise is focused on implementing classification Machine learning algorithms to perform the analysis."
   ]
  },
  {
   "cell_type": "markdown",
   "metadata": {},
   "source": [
    "# Data"
   ]
  },
  {
   "cell_type": "markdown",
   "metadata": {},
   "source": [
    "The data for this project is provided by Kaggle dataset. This data is given by an airline organization. The actual name of the company is not given due to various purposes that's why the name Invistico Airlines. The dataset consists of the details of customers who have already flown with them. This data shows whether a customer is satisfied with the airlines or not after travelling with them. There are several other measurement or to say feedback taken from the customers as well as their demographic data is also recorded."
   ]
  },
  {
   "cell_type": "markdown",
   "metadata": {},
   "source": [
    "# Data Wrangling"
   ]
  },
  {
   "cell_type": "markdown",
   "metadata": {},
   "source": [
    "Notebook: https://github.com/amykitty99/Springboard/blob/main/Capstone%20(Springboard)_%20Data%20Wrangling.ipynb"
   ]
  },
  {
   "cell_type": "markdown",
   "metadata": {},
   "source": [
    "In the data wrangling section, I have cleaned and prepared the data. Data Cleaning involved the process of dealing with missing values, looking for outliers in the data, checking class imbalance and labelling the acacordingly. Since, only one attribute contained 3% missing values , those missing records were dropped from the dataset. The outliers in the variables 'Arrival Delay in Minutes', 'Departure Delay in Minutes' and 'Flight Distance' contains important information about the airlines. Hence, I didn't drop these outliers from the data. In addition, the data is almost class balanced."
   ]
  },
  {
   "cell_type": "markdown",
   "metadata": {},
   "source": [
    "# EDA"
   ]
  },
  {
   "cell_type": "markdown",
   "metadata": {},
   "source": [
    "Notebook:https://github.com/amykitty99/Springboard/blob/main/Capstone%20(Springboard)_%20EDA.html"
   ]
  },
  {
   "cell_type": "markdown",
   "metadata": {},
   "source": [
    "In the EDA section, I created different data visualizations to understand the relationships between different attaributes. The key visualizations from the data are as follows:\n",
    "\n",
    "1. 54.7% people are satsfied with the Airlines and 45.3% are not satisfied with the Airlines.\n",
    "2. Most satisfied customers lie in the age group of 41 years approx and most dissatisfied customers lie in the age group of 38 years (approx).\n",
    "3. Most satisfied customers flew a flight distance of 1944.47 miles with the airlines and dissatisfied customers flew around 2025.203 miles with the airlines.\n",
    "4. Most satisfied customers flew a flight distance of 1944.47 miles with the airlines and dissatisfied customers flew around 2025.203 miles with the airlines.\n",
    "5. Most dissatisfied customers had an average delay of 18 minutes (approx) and satisfied customers had an average delay of 12 minutes (approx)with the airlines.\n",
    "6. Females are more satisfied than males. Males are more dissatisfied with the airlines.\n",
    "7. Disloyal customers of the airlines are less satisfied compared to loyal customer. \n",
    "8.  Customers doing business travel are more satisfied compared to personal travel customers\n",
    "9. A cleanliness level of 4 and 5 yields higher satsfaction among customers.\n",
    "10. A seat comfort level of 4 and 5 yields higher satsfaction among customers.\n",
    "11. An Inflight_entertainment level of 4 and 5 yields higher satsfaction among customers suggesting better inflight entertainment provides higher satisfaction.\n",
    "12. A better ease_of_online_booking service will yield more satisfaction among customers as suggested by the ratings of 4 and 5 for ease_of_Online_booking service.\n",
    "13. Inflight wifi service doesn't hold much importance for satisfaction because we can see that even if inflight wifi service has a got a rating of 2, the number of customers satisfied is more than no of customers dissatisfied.\n",
    "14. Better onboard service will yield better satisfaction among customers as suggested by the ratings of 4 and 5 for onboard service.\n",
    "15. Better leg room service will yield better satisfaction among customers as suggested by the ratings of 4 and 5 for leg room service.\n",
    "16. Better food and drink will yield better satisfaction among customers as suggested by the ratings of 4 and 5 for Food and drink."
   ]
  },
  {
   "cell_type": "markdown",
   "metadata": {},
   "source": [
    "# Preprocessing"
   ]
  },
  {
   "cell_type": "markdown",
   "metadata": {},
   "source": [
    "Notebook: https://github.com/amykitty99/Springboard/blob/main/Capstone%20(Springboard)_%20Preprocessing.ipynb"
   ]
  },
  {
   "cell_type": "markdown",
   "metadata": {},
   "source": [
    "In the preprocessing section, I have prepared the data where dummies have been created for categorical data and standardization have been done for all the numerical attributes. "
   ]
  },
  {
   "cell_type": "markdown",
   "metadata": {},
   "source": [
    "# Modelling"
   ]
  },
  {
   "cell_type": "markdown",
   "metadata": {},
   "source": [
    "Notebook: https://github.com/amykitty99/Springboard/blob/main/Capstone%20(Springboard)_%20Final%20Modelling.ipynb"
   ]
  },
  {
   "cell_type": "markdown",
   "metadata": {},
   "source": [
    "In the modelling section, to predict whether a future customer would be satisfied with the Airlines service, I fit a Logistic Regression model and a Gradient Boost Classifier to check which is a better algorithm to perform the task. I look at Accuracy score, Precision Score, Recall Score and AUC curve for both training and test datasets to understand which algorithm gives us a better performance. I also look at VIF (Variance Influence Factor) to look for multicollinear variables. Any explanatory variable having a VIF>10 is a indication of multicollinearity present in the model. Hence, multicollinearity issues have been taken care of before finalzing the model.  A training and test split of 75% aand 25% respectively has been performed while fittig both the algorithms. Looking at the final AUC scores for both Logistic Regression and Gradient Boost Classifier, we conclude that Gradient Boost Classifier is a better model to analyze the given task. Both AUC score of training and test are approx. 0.88 for Gradient Boost Classifier suggesting there is no form of overfitting in the model."
   ]
  },
  {
   "cell_type": "markdown",
   "metadata": {},
   "source": [
    "# Future Improvements"
   ]
  },
  {
   "cell_type": "markdown",
   "metadata": {},
   "source": [
    "In the future, I would love to spend more time gathering some additional data, if available, and also trying out different other ML classification algorithms as further robustness checks."
   ]
  },
  {
   "cell_type": "markdown",
   "metadata": {},
   "source": [
    "# Credits"
   ]
  },
  {
   "cell_type": "markdown",
   "metadata": {},
   "source": [
    "I would like to thank my Springboard mentor Kevin Ding for his continuous support and for being an amazing Springboard mentor."
   ]
  },
  {
   "cell_type": "code",
   "execution_count": null,
   "metadata": {},
   "outputs": [],
   "source": []
  }
 ],
 "metadata": {
  "kernelspec": {
   "display_name": "Python 3",
   "language": "python",
   "name": "python3"
  },
  "language_info": {
   "codemirror_mode": {
    "name": "ipython",
    "version": 3
   },
   "file_extension": ".py",
   "mimetype": "text/x-python",
   "name": "python",
   "nbconvert_exporter": "python",
   "pygments_lexer": "ipython3",
   "version": "3.7.6"
  }
 },
 "nbformat": 4,
 "nbformat_minor": 4
}
