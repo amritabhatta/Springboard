{
 "cells": [
  {
   "cell_type": "code",
   "execution_count": 1,
   "metadata": {},
   "outputs": [
    {
     "name": "stdout",
     "output_type": "stream",
     "text": [
      "(CVXPY) Sep 01 01:40:58 PM: Encountered unexpected exception importing solver SCS:\n",
      "ImportError('dlopen(/Users/amrita/opt/anaconda3/lib/python3.7/site-packages/_scs_direct.cpython-37m-darwin.so, 2): Symbol not found: _aligned_alloc\\n  Referenced from: /Users/amrita/opt/anaconda3/lib/python3.7/site-packages/scs/.dylibs/libgomp.1.dylib (which was built for Mac OS X 10.15)\\n  Expected in: /usr/lib/libSystem.B.dylib\\n in /Users/amrita/opt/anaconda3/lib/python3.7/site-packages/scs/.dylibs/libgomp.1.dylib')\n"
     ]
    }
   ],
   "source": [
    "import pandas as pd\n",
    "import numpy as np\n",
    "import matplotlib.pyplot as plt\n",
    "%matplotlib inline\n",
    "import scipy.stats as stats\n",
    "import math\n",
    "import seaborn as sns\n",
    "from sklearn.linear_model import LogisticRegression\n",
    "from sklearn.model_selection import train_test_split\n",
    "from sklearn.metrics import confusion_matrix\n",
    "from sklearn.impute import KNNImputer\n",
    "from fancyimpute import KNN\n",
    "from functools import reduce\n",
    "import plotly.express as px\n",
    "import plotly.graph_objects as go \n",
    "from sklearn import preprocessing\n",
    "from sklearn.preprocessing import StandardScaler\n",
    "from statsmodels.stats.outliers_influence import variance_inflation_factor\n",
    "import statsmodels.api as sm\n",
    "import plotly.io as pio\n",
    "pio.renderers.default='notebook'\n",
    "from sklearn.metrics import (confusion_matrix,\n",
    "                           accuracy_score)\n",
    "import warnings # For handling error messages.\n",
    "# Don't worry about the following two instructions: they just suppress warnings that could occur later. \n",
    "warnings.simplefilter(action=\"ignore\", category=FutureWarning)\n",
    "warnings.filterwarnings(action=\"ignore\", module=\"scipy\", message=\"^internal gelsd\")"
   ]
  },
  {
   "cell_type": "code",
   "execution_count": 2,
   "metadata": {
    "scrolled": false
   },
   "outputs": [
    {
     "data": {
      "text/html": [
       "<div>\n",
       "<style scoped>\n",
       "    .dataframe tbody tr th:only-of-type {\n",
       "        vertical-align: middle;\n",
       "    }\n",
       "\n",
       "    .dataframe tbody tr th {\n",
       "        vertical-align: top;\n",
       "    }\n",
       "\n",
       "    .dataframe thead th {\n",
       "        text-align: right;\n",
       "    }\n",
       "</style>\n",
       "<table border=\"1\" class=\"dataframe\">\n",
       "  <thead>\n",
       "    <tr style=\"text-align: right;\">\n",
       "      <th></th>\n",
       "      <th>satisfaction</th>\n",
       "      <th>Age</th>\n",
       "      <th>Flight_Distance</th>\n",
       "      <th>Departure_Delay_in_Minutes</th>\n",
       "      <th>Arrival_Delay_in_Minutes</th>\n",
       "      <th>Seat_comfort</th>\n",
       "      <th>Departure/Arrival_time_convenient</th>\n",
       "      <th>Food_and_drink</th>\n",
       "      <th>Gate_location</th>\n",
       "      <th>Inflight_wifi_service</th>\n",
       "      <th>...</th>\n",
       "      <th>Leg_room_service</th>\n",
       "      <th>Baggage_handling</th>\n",
       "      <th>Checkin_service</th>\n",
       "      <th>Cleanliness</th>\n",
       "      <th>Online_boarding</th>\n",
       "      <th>Eco</th>\n",
       "      <th>Eco_Plus</th>\n",
       "      <th>disloyal_Customer</th>\n",
       "      <th>Personal_Travel</th>\n",
       "      <th>Male</th>\n",
       "    </tr>\n",
       "  </thead>\n",
       "  <tbody>\n",
       "    <tr>\n",
       "      <th>0</th>\n",
       "      <td>1</td>\n",
       "      <td>1.691495</td>\n",
       "      <td>-1.671090</td>\n",
       "      <td>-0.386036</td>\n",
       "      <td>-0.392329</td>\n",
       "      <td>0</td>\n",
       "      <td>0</td>\n",
       "      <td>0</td>\n",
       "      <td>2</td>\n",
       "      <td>2</td>\n",
       "      <td>...</td>\n",
       "      <td>0</td>\n",
       "      <td>3</td>\n",
       "      <td>5</td>\n",
       "      <td>3</td>\n",
       "      <td>2</td>\n",
       "      <td>1</td>\n",
       "      <td>0</td>\n",
       "      <td>0</td>\n",
       "      <td>1</td>\n",
       "      <td>0</td>\n",
       "    </tr>\n",
       "    <tr>\n",
       "      <th>1</th>\n",
       "      <td>1</td>\n",
       "      <td>0.500825</td>\n",
       "      <td>0.470348</td>\n",
       "      <td>7.786328</td>\n",
       "      <td>7.536854</td>\n",
       "      <td>0</td>\n",
       "      <td>0</td>\n",
       "      <td>0</td>\n",
       "      <td>3</td>\n",
       "      <td>0</td>\n",
       "      <td>...</td>\n",
       "      <td>4</td>\n",
       "      <td>4</td>\n",
       "      <td>2</td>\n",
       "      <td>3</td>\n",
       "      <td>2</td>\n",
       "      <td>0</td>\n",
       "      <td>0</td>\n",
       "      <td>0</td>\n",
       "      <td>1</td>\n",
       "      <td>1</td>\n",
       "    </tr>\n",
       "    <tr>\n",
       "      <th>2</th>\n",
       "      <td>1</td>\n",
       "      <td>-1.615922</td>\n",
       "      <td>0.152882</td>\n",
       "      <td>-0.386036</td>\n",
       "      <td>-0.392329</td>\n",
       "      <td>0</td>\n",
       "      <td>0</td>\n",
       "      <td>0</td>\n",
       "      <td>3</td>\n",
       "      <td>2</td>\n",
       "      <td>...</td>\n",
       "      <td>3</td>\n",
       "      <td>4</td>\n",
       "      <td>4</td>\n",
       "      <td>4</td>\n",
       "      <td>2</td>\n",
       "      <td>1</td>\n",
       "      <td>0</td>\n",
       "      <td>0</td>\n",
       "      <td>1</td>\n",
       "      <td>0</td>\n",
       "    </tr>\n",
       "    <tr>\n",
       "      <th>3</th>\n",
       "      <td>1</td>\n",
       "      <td>1.360753</td>\n",
       "      <td>-1.322461</td>\n",
       "      <td>-0.386036</td>\n",
       "      <td>-0.392329</td>\n",
       "      <td>0</td>\n",
       "      <td>0</td>\n",
       "      <td>0</td>\n",
       "      <td>3</td>\n",
       "      <td>3</td>\n",
       "      <td>...</td>\n",
       "      <td>0</td>\n",
       "      <td>1</td>\n",
       "      <td>4</td>\n",
       "      <td>1</td>\n",
       "      <td>3</td>\n",
       "      <td>1</td>\n",
       "      <td>0</td>\n",
       "      <td>0</td>\n",
       "      <td>1</td>\n",
       "      <td>0</td>\n",
       "    </tr>\n",
       "    <tr>\n",
       "      <th>4</th>\n",
       "      <td>1</td>\n",
       "      <td>2.022237</td>\n",
       "      <td>-1.584420</td>\n",
       "      <td>-0.386036</td>\n",
       "      <td>-0.392329</td>\n",
       "      <td>0</td>\n",
       "      <td>0</td>\n",
       "      <td>0</td>\n",
       "      <td>3</td>\n",
       "      <td>4</td>\n",
       "      <td>...</td>\n",
       "      <td>0</td>\n",
       "      <td>2</td>\n",
       "      <td>4</td>\n",
       "      <td>2</td>\n",
       "      <td>5</td>\n",
       "      <td>1</td>\n",
       "      <td>0</td>\n",
       "      <td>0</td>\n",
       "      <td>1</td>\n",
       "      <td>0</td>\n",
       "    </tr>\n",
       "  </tbody>\n",
       "</table>\n",
       "<p>5 rows × 24 columns</p>\n",
       "</div>"
      ],
      "text/plain": [
       "   satisfaction       Age  Flight_Distance  Departure_Delay_in_Minutes  \\\n",
       "0             1  1.691495        -1.671090                   -0.386036   \n",
       "1             1  0.500825         0.470348                    7.786328   \n",
       "2             1 -1.615922         0.152882                   -0.386036   \n",
       "3             1  1.360753        -1.322461                   -0.386036   \n",
       "4             1  2.022237        -1.584420                   -0.386036   \n",
       "\n",
       "   Arrival_Delay_in_Minutes  Seat_comfort  Departure/Arrival_time_convenient  \\\n",
       "0                 -0.392329             0                                  0   \n",
       "1                  7.536854             0                                  0   \n",
       "2                 -0.392329             0                                  0   \n",
       "3                 -0.392329             0                                  0   \n",
       "4                 -0.392329             0                                  0   \n",
       "\n",
       "   Food_and_drink  Gate_location  Inflight_wifi_service  ...  \\\n",
       "0               0              2                      2  ...   \n",
       "1               0              3                      0  ...   \n",
       "2               0              3                      2  ...   \n",
       "3               0              3                      3  ...   \n",
       "4               0              3                      4  ...   \n",
       "\n",
       "   Leg_room_service  Baggage_handling  Checkin_service  Cleanliness  \\\n",
       "0                 0                 3                5            3   \n",
       "1                 4                 4                2            3   \n",
       "2                 3                 4                4            4   \n",
       "3                 0                 1                4            1   \n",
       "4                 0                 2                4            2   \n",
       "\n",
       "   Online_boarding  Eco  Eco_Plus  disloyal_Customer  Personal_Travel  Male  \n",
       "0                2    1         0                  0                1     0  \n",
       "1                2    0         0                  0                1     1  \n",
       "2                2    1         0                  0                1     0  \n",
       "3                3    1         0                  0                1     0  \n",
       "4                5    1         0                  0                1     0  \n",
       "\n",
       "[5 rows x 24 columns]"
      ]
     },
     "execution_count": 2,
     "metadata": {},
     "output_type": "execute_result"
    }
   ],
   "source": [
    "# We import the dataset that we created in our Data Wrangling section of the Capstone project \n",
    "# Import the dataset\n",
    "\n",
    "df=pd.read_csv('/Users/amrita/Desktop/new_df.csv')\n",
    "df.head()"
   ]
  },
  {
   "cell_type": "markdown",
   "metadata": {},
   "source": [
    "# Check Correlations"
   ]
  },
  {
   "cell_type": "code",
   "execution_count": 3,
   "metadata": {
    "scrolled": true
   },
   "outputs": [
    {
     "name": "stdout",
     "output_type": "stream",
     "text": [
      "Top Absolute Correlations\n",
      "Departure_Delay_in_Minutes         Arrival_Delay_in_Minutes             0.740284\n",
      "Seat_comfort                       Food_and_drink                       0.705452\n",
      "Ease_of_Online_booking             Online_boarding                      0.662621\n",
      "Online_support                     Online_boarding                      0.650395\n",
      "Baggage_handling                   Cleanliness                          0.641254\n",
      "Inflight_wifi_service              Online_boarding                      0.616602\n",
      "Online_support                     Ease_of_Online_booking               0.603637\n",
      "Inflight_wifi_service              Ease_of_Online_booking               0.579588\n",
      "On_board_service                   Cleanliness                          0.578680\n",
      "satisfaction                       Inflight_entertainment               0.577601\n",
      "On_board_service                   Baggage_handling                     0.555065\n",
      "Departure/Arrival_time_convenient  Gate_location                        0.554920\n",
      "                                   Food_and_drink                       0.538209\n",
      "Inflight_wifi_service              Online_support                       0.534364\n",
      "Food_and_drink                     Gate_location                        0.533950\n",
      "Eco                                Personal_Travel                      0.501048\n",
      "Ease_of_Online_booking             On_board_service                     0.464856\n",
      "Inflight_entertainment             Online_support                       0.460996\n",
      "Ease_of_Online_booking             Cleanliness                          0.452210\n",
      "Seat_comfort                       Departure/Arrival_time_convenient    0.438744\n",
      "Ease_of_Online_booking             Baggage_handling                     0.431395\n",
      "satisfaction                       Ease_of_Online_booking               0.429579\n",
      "On_board_service                   Leg_room_service                     0.426280\n",
      "Leg_room_service                   Cleanliness                          0.423042\n",
      "                                   Baggage_handling                     0.420031\n",
      "Seat_comfort                       Gate_location                        0.410114\n",
      "satisfaction                       Online_support                       0.402107\n",
      "Seat_comfort                       Inflight_entertainment               0.399236\n",
      "Ease_of_Online_booking             Leg_room_service                     0.377119\n",
      "Inflight_entertainment             Online_boarding                      0.369503\n",
      "dtype: float64\n"
     ]
    }
   ],
   "source": [
    "def get_redundant_pairs(df):\n",
    "    '''Get diagonal and lower triangular pairs of correlation matrix'''\n",
    "    pairs_to_drop = set()\n",
    "    cols = df.columns\n",
    "    for i in range(0, df.shape[1]):\n",
    "        for j in range(0, i+1):\n",
    "            pairs_to_drop.add((cols[i], cols[j]))\n",
    "    return pairs_to_drop\n",
    "\n",
    "def get_top_abs_correlations(df, n=5):\n",
    "    au_corr = df.corr(method= 'spearman').abs().unstack()\n",
    "    labels_to_drop = get_redundant_pairs(df)\n",
    "    au_corr = au_corr.drop(labels=labels_to_drop).sort_values(ascending=False)\n",
    "    return au_corr[0:n]\n",
    "\n",
    "print(\"Top Absolute Correlations\")\n",
    "print(get_top_abs_correlations(df, 30))"
   ]
  },
  {
   "cell_type": "code",
   "execution_count": 4,
   "metadata": {},
   "outputs": [],
   "source": [
    "# The following variables are dropped based on VIF analysis and the final model was re-fit.\n",
    "\n",
    "df=df.drop('Ease_of_Online_booking', axis=1)"
   ]
  },
  {
   "cell_type": "code",
   "execution_count": 5,
   "metadata": {},
   "outputs": [],
   "source": [
    "df=df.drop(['Baggage_handling', 'Cleanliness'], axis=1)"
   ]
  },
  {
   "cell_type": "code",
   "execution_count": 6,
   "metadata": {},
   "outputs": [],
   "source": [
    "df=df.drop(['Online_support'], axis=1)"
   ]
  },
  {
   "cell_type": "code",
   "execution_count": 7,
   "metadata": {},
   "outputs": [],
   "source": [
    "df=df.drop(['Food_and_drink','Inflight_wifi_service'], axis=1)"
   ]
  },
  {
   "cell_type": "code",
   "execution_count": 8,
   "metadata": {},
   "outputs": [],
   "source": [
    "df=df.drop(['Departure_Delay_in_Minutes'], axis=1)"
   ]
  },
  {
   "cell_type": "code",
   "execution_count": 9,
   "metadata": {},
   "outputs": [
    {
     "name": "stdout",
     "output_type": "stream",
     "text": [
      "                 Generalized Linear Model Regression Results                  \n",
      "==============================================================================\n",
      "Dep. Variable:           satisfaction   No. Observations:               103589\n",
      "Model:                            GLM   Df Residuals:                   103573\n",
      "Model Family:                Binomial   Df Model:                           15\n",
      "Link Function:                  logit   Scale:                          1.0000\n",
      "Method:                          IRLS   Log-Likelihood:                -46047.\n",
      "Date:                Thu, 01 Sep 2022   Deviance:                       92093.\n",
      "Time:                        13:41:02   Pearson chi2:                 1.18e+05\n",
      "No. Iterations:                     5                                         \n",
      "Covariance Type:            nonrobust                                         \n",
      "=====================================================================================================\n",
      "                                        coef    std err          z      P>|z|      [0.025      0.975]\n",
      "-----------------------------------------------------------------------------------------------------\n",
      "Age                                  -0.1200      0.009    -13.489      0.000      -0.137      -0.103\n",
      "Flight_Distance                      -0.1400      0.009    -15.420      0.000      -0.158      -0.122\n",
      "Arrival_Delay_in_Minutes             -0.1884      0.009    -21.707      0.000      -0.205      -0.171\n",
      "Seat_comfort                          0.2735      0.008     34.941      0.000       0.258       0.289\n",
      "Departure/Arrival_time_convenient    -0.2810      0.007    -41.356      0.000      -0.294      -0.268\n",
      "Gate_location                        -0.2083      0.007    -28.854      0.000      -0.222      -0.194\n",
      "Inflight_entertainment                0.3270      0.007     43.944      0.000       0.312       0.342\n",
      "On_board_service                      0.2438      0.007     34.728      0.000       0.230       0.258\n",
      "Leg_room_service                      0.0610      0.007      9.187      0.000       0.048       0.074\n",
      "Checkin_service                       0.0928      0.007     13.814      0.000       0.080       0.106\n",
      "Online_boarding                       0.1596      0.007     24.256      0.000       0.147       0.173\n",
      "Eco                                  -1.3432      0.021    -63.647      0.000      -1.385      -1.302\n",
      "Eco_Plus                             -1.5021      0.033    -46.118      0.000      -1.566      -1.438\n",
      "disloyal_Customer                    -2.3175      0.025    -91.136      0.000      -2.367      -2.268\n",
      "Personal_Travel                      -0.5159      0.023    -22.095      0.000      -0.562      -0.470\n",
      "Male                                 -1.2987      0.017    -78.068      0.000      -1.331      -1.266\n",
      "=====================================================================================================\n"
     ]
    }
   ],
   "source": [
    "# With statsmodel \n",
    "# Train-test split 80:20\n",
    "\n",
    "train, test = train_test_split(df, test_size=0.2)\n",
    "col = \"satisfaction\"\n",
    "xtest= test.loc[:, test.columns != col]\n",
    "ytest= test[['satisfaction']]\n",
    "col = \"satisfaction\"\n",
    "xtrain = train.loc[:, train.columns != col]\n",
    "ytrain= train[['satisfaction']]\n",
    "model= sm.GLM(ytrain, xtrain, family=sm.families.Binomial()).fit()\n",
    "print(model.summary())"
   ]
  },
  {
   "cell_type": "code",
   "execution_count": 109,
   "metadata": {},
   "outputs": [],
   "source": [
    "# Model with Scikit Learn\n",
    "\n",
    "X_train_newseed, X_test_newseed, y_train_newseed,y_test_newseed = train_test_split(df, df.satisfaction, test_size=0.2, random_state=4)\n",
    "X_train_newseed.drop('satisfaction', axis=1, inplace=True)\n",
    "X_test_newseed.drop('satisfaction', axis=1, inplace=True)\n",
    "model_scikit = LogisticRegression(max_iter=10000).fit(X_train_newseed, y_train_newseed)\n",
    "y_pred= model_scikit.predict(X_test_newseed)"
   ]
  },
  {
   "cell_type": "code",
   "execution_count": 110,
   "metadata": {},
   "outputs": [],
   "source": [
    "#training \n",
    "\n",
    "y_pred_newseed1=model_scikit.predict(X_train_newseed)"
   ]
  },
  {
   "cell_type": "code",
   "execution_count": 111,
   "metadata": {},
   "outputs": [
    {
     "data": {
      "image/png": "[encoded data removed]",
      "text/plain": [
       "<Figure size 432x288 with 1 Axes>"
      ]
     },
     "metadata": {
      "needs_background": "light"
     },
     "output_type": "display_data"
    }
   ],
   "source": [
    "# AUC (training)\n",
    "\n",
    "from sklearn import metrics\n",
    "\n",
    "y_pred_proba_newseed1 = model_scikit.predict_proba(X_train_newseed)[::,1]\n",
    "fpr, tpr, _ = metrics.roc_curve(y_train_newseed,  y_pred_proba_newseed1)\n",
    "auc_newseed1 = metrics.roc_auc_score(y_train_newseed, y_pred_newseed1)\n",
    "plt.plot(fpr,tpr,label=\"data 4, auc=\"+str(auc_newseed1))\n",
    "plt.legend(loc=4)\n",
    "plt.show()"
   ]
  },
  {
   "cell_type": "code",
   "execution_count": 112,
   "metadata": {},
   "outputs": [
    {
     "data": {
      "text/plain": [
       "(103589,)"
      ]
     },
     "execution_count": 112,
     "metadata": {},
     "output_type": "execute_result"
    }
   ],
   "source": [
    "y_pred_newseed1.shape"
   ]
  },
  {
   "cell_type": "code",
   "execution_count": 113,
   "metadata": {},
   "outputs": [
    {
     "data": {
      "image/png": "[encoded data removed]",
      "text/plain": [
       "<Figure size 432x288 with 1 Axes>"
      ]
     },
     "metadata": {
      "needs_background": "light"
     },
     "output_type": "display_data"
    }
   ],
   "source": [
    "# AUC\n",
    "\n",
    "from sklearn import metrics\n",
    "\n",
    "y_pred_proba_newseed = model_scikit.predict_proba(X_test_newseed)[::,1]\n",
    "fpr, tpr, _ = metrics.roc_curve(y_test_newseed,  y_pred_proba_newseed)\n",
    "auc_newseed = metrics.roc_auc_score(y_test_newseed, y_pred)\n",
    "plt.plot(fpr,tpr,label=\"data 4, auc=\"+str(auc_newseed))\n",
    "plt.legend(loc=4)\n",
    "plt.show()"
   ]
  },
  {
   "cell_type": "code",
   "execution_count": 14,
   "metadata": {},
   "outputs": [
    {
     "name": "stdout",
     "output_type": "stream",
     "text": [
      "Accuracy: 0.8328442350760676\n",
      "Precision: 0.8416783216783217\n",
      "Recall: 0.8535564853556485\n"
     ]
    }
   ],
   "source": [
    "from sklearn import metrics\n",
    "\n",
    "print(\"Accuracy:\",metrics.accuracy_score(y_test_newseed, y_pred))\n",
    "print(\"Precision:\",metrics.precision_score(y_test_newseed, y_pred))\n",
    "print(\"Recall:\",metrics.recall_score(y_test_newseed, y_pred))"
   ]
  },
  {
   "cell_type": "markdown",
   "metadata": {},
   "source": [
    "# Check VIF for multicollinearity"
   ]
  },
  {
   "cell_type": "code",
   "execution_count": 114,
   "metadata": {},
   "outputs": [],
   "source": [
    "X_new_nested=df.drop(['satisfaction'], axis=1)\n",
    "vif_data_nested = pd.DataFrame()\n",
    "vif_data_nested[\"feature\"] = X_new_nested.columns"
   ]
  },
  {
   "cell_type": "code",
   "execution_count": 115,
   "metadata": {},
   "outputs": [],
   "source": [
    "vif_data_nested[\"VIF\"] = [variance_inflation_factor(X_new_nested.values, i)\n",
    "                          for i in range(len(X_new_nested.columns))]"
   ]
  },
  {
   "cell_type": "code",
   "execution_count": 116,
   "metadata": {
    "scrolled": false
   },
   "outputs": [
    {
     "data": {
      "text/html": [
       "<div>\n",
       "<style scoped>\n",
       "    .dataframe tbody tr th:only-of-type {\n",
       "        vertical-align: middle;\n",
       "    }\n",
       "\n",
       "    .dataframe tbody tr th {\n",
       "        vertical-align: top;\n",
       "    }\n",
       "\n",
       "    .dataframe thead th {\n",
       "        text-align: right;\n",
       "    }\n",
       "</style>\n",
       "<table border=\"1\" class=\"dataframe\">\n",
       "  <thead>\n",
       "    <tr style=\"text-align: right;\">\n",
       "      <th></th>\n",
       "      <th>feature</th>\n",
       "      <th>VIF</th>\n",
       "    </tr>\n",
       "  </thead>\n",
       "  <tbody>\n",
       "    <tr>\n",
       "      <th>2</th>\n",
       "      <td>Arrival_Delay_in_Minutes</td>\n",
       "      <td>1.016725</td>\n",
       "    </tr>\n",
       "    <tr>\n",
       "      <th>1</th>\n",
       "      <td>Flight_Distance</td>\n",
       "      <td>1.156264</td>\n",
       "    </tr>\n",
       "    <tr>\n",
       "      <th>0</th>\n",
       "      <td>Age</td>\n",
       "      <td>1.217909</td>\n",
       "    </tr>\n",
       "    <tr>\n",
       "      <th>12</th>\n",
       "      <td>Eco_Plus</td>\n",
       "      <td>1.257224</td>\n",
       "    </tr>\n",
       "    <tr>\n",
       "      <th>13</th>\n",
       "      <td>disloyal_Customer</td>\n",
       "      <td>1.733604</td>\n",
       "    </tr>\n",
       "    <tr>\n",
       "      <th>15</th>\n",
       "      <td>Male</td>\n",
       "      <td>1.925005</td>\n",
       "    </tr>\n",
       "    <tr>\n",
       "      <th>14</th>\n",
       "      <td>Personal_Travel</td>\n",
       "      <td>2.789679</td>\n",
       "    </tr>\n",
       "    <tr>\n",
       "      <th>11</th>\n",
       "      <td>Eco</td>\n",
       "      <td>3.163542</td>\n",
       "    </tr>\n",
       "    <tr>\n",
       "      <th>4</th>\n",
       "      <td>Departure/Arrival_time_convenient</td>\n",
       "      <td>8.249235</td>\n",
       "    </tr>\n",
       "    <tr>\n",
       "      <th>10</th>\n",
       "      <td>Online_boarding</td>\n",
       "      <td>8.440939</td>\n",
       "    </tr>\n",
       "    <tr>\n",
       "      <th>9</th>\n",
       "      <td>Checkin_service</td>\n",
       "      <td>8.727362</td>\n",
       "    </tr>\n",
       "    <tr>\n",
       "      <th>5</th>\n",
       "      <td>Gate_location</td>\n",
       "      <td>8.902368</td>\n",
       "    </tr>\n",
       "    <tr>\n",
       "      <th>3</th>\n",
       "      <td>Seat_comfort</td>\n",
       "      <td>8.969078</td>\n",
       "    </tr>\n",
       "    <tr>\n",
       "      <th>8</th>\n",
       "      <td>Leg_room_service</td>\n",
       "      <td>9.445045</td>\n",
       "    </tr>\n",
       "    <tr>\n",
       "      <th>7</th>\n",
       "      <td>On_board_service</td>\n",
       "      <td>10.322278</td>\n",
       "    </tr>\n",
       "    <tr>\n",
       "      <th>6</th>\n",
       "      <td>Inflight_entertainment</td>\n",
       "      <td>11.192034</td>\n",
       "    </tr>\n",
       "  </tbody>\n",
       "</table>\n",
       "</div>"
      ],
      "text/plain": [
       "                              feature        VIF\n",
       "2            Arrival_Delay_in_Minutes   1.016725\n",
       "1                     Flight_Distance   1.156264\n",
       "0                                 Age   1.217909\n",
       "12                           Eco_Plus   1.257224\n",
       "13                  disloyal_Customer   1.733604\n",
       "15                               Male   1.925005\n",
       "14                    Personal_Travel   2.789679\n",
       "11                                Eco   3.163542\n",
       "4   Departure/Arrival_time_convenient   8.249235\n",
       "10                    Online_boarding   8.440939\n",
       "9                     Checkin_service   8.727362\n",
       "5                       Gate_location   8.902368\n",
       "3                        Seat_comfort   8.969078\n",
       "8                    Leg_room_service   9.445045\n",
       "7                    On_board_service  10.322278\n",
       "6              Inflight_entertainment  11.192034"
      ]
     },
     "execution_count": 116,
     "metadata": {},
     "output_type": "execute_result"
    }
   ],
   "source": [
    "vif_data_nested.sort_values(\"VIF\")"
   ]
  },
  {
   "cell_type": "markdown",
   "metadata": {},
   "source": [
    "# GradientBoost Classifier"
   ]
  },
  {
   "cell_type": "code",
   "execution_count": 131,
   "metadata": {},
   "outputs": [
    {
     "name": "stdout",
     "output_type": "stream",
     "text": [
      "Learning rate:  0.05\n",
      "Accuracy score (training): 0.849\n",
      "Accuracy score (validation): 0.847\n",
      "\n",
      "Learning rate:  0.1\n",
      "Accuracy score (training): 0.858\n",
      "Accuracy score (validation): 0.855\n",
      "\n",
      "Learning rate:  0.25\n",
      "Accuracy score (training): 0.870\n",
      "Accuracy score (validation): 0.867\n",
      "\n",
      "Learning rate:  0.5\n",
      "Accuracy score (training): 0.890\n",
      "Accuracy score (validation): 0.887\n",
      "\n",
      "Learning rate:  0.75\n",
      "Accuracy score (training): 0.893\n",
      "Accuracy score (validation): 0.890\n",
      "\n",
      "Learning rate:  1\n",
      "Accuracy score (training): 0.894\n",
      "Accuracy score (validation): 0.892\n",
      "\n"
     ]
    }
   ],
   "source": [
    "learning_rates = [0.05, 0.1, 0.25, 0.5, 0.75, 1]\n",
    "for learning_rate in learning_rates:\n",
    "    gb = GradientBoostingClassifier(n_estimators=20, learning_rate = learning_rate, max_features=2, max_depth = 2, random_state = 0)\n",
    "    gb.fit(xtrain, ytrain.values.ravel())\n",
    "    print(\"Learning rate: \", learning_rate)\n",
    "    print(\"Accuracy score (training): {0:.3f}\".format(gb.score(xtrain, ytrain)))\n",
    "    print(\"Accuracy score (validation): {0:.3f}\".format(gb.score(xtest, ytest)))\n",
    "    print()"
   ]
  },
  {
   "cell_type": "code",
   "execution_count": 105,
   "metadata": {},
   "outputs": [],
   "source": [
    "from sklearn.ensemble import GradientBoostingClassifier"
   ]
  },
  {
   "cell_type": "code",
   "execution_count": 126,
   "metadata": {},
   "outputs": [
    {
     "name": "stdout",
     "output_type": "stream",
     "text": [
      "Learning rate:  1\n",
      "Accuracy score (training): 0.883\n",
      "Accuracy score (validation): 0.881\n",
      "\n"
     ]
    }
   ],
   "source": [
    "gb1 = GradientBoostingClassifier(n_estimators=20, learning_rate = 0.5, max_features=2, max_depth = 2, random_state = 4)\n",
    "gb1.fit(xtrain, ytrain.values.ravel())\n",
    "print(\"Learning rate: \", learning_rate)\n",
    "print(\"Accuracy score (training): {0:.3f}\".format(gb1.score(xtrain, ytrain)))\n",
    "print(\"Accuracy score (validation): {0:.3f}\".format(gb1.score(xtest, ytest)))\n",
    "print()"
   ]
  },
  {
   "cell_type": "code",
   "execution_count": 127,
   "metadata": {},
   "outputs": [],
   "source": [
    "#training \n",
    "\n",
    "y_pred_gb1=gb1.predict(xtrain)"
   ]
  },
  {
   "cell_type": "code",
   "execution_count": 128,
   "metadata": {},
   "outputs": [
    {
     "data": {
      "image/png": "[encoded data removed]",
      "text/plain": [
       "<Figure size 432x288 with 1 Axes>"
      ]
     },
     "metadata": {
      "needs_background": "light"
     },
     "output_type": "display_data"
    }
   ],
   "source": [
    "# AUC (training)\n",
    "\n",
    "from sklearn import metrics\n",
    "\n",
    "y_pred_proba_gb1 = model_scikit.predict_proba(xtrain)[::,1]\n",
    "fpr, tpr, _ = metrics.roc_curve(ytrain,  y_pred_proba_gb1)\n",
    "auc_newseed_gb1 = metrics.roc_auc_score(ytrain, y_pred_gb1)\n",
    "plt.plot(fpr,tpr,label=\"data 4, auc=\"+str(auc_newseed_gb1))\n",
    "plt.legend(loc=4)\n",
    "plt.show()"
   ]
  },
  {
   "cell_type": "code",
   "execution_count": 129,
   "metadata": {},
   "outputs": [],
   "source": [
    "#test\n",
    "ypred2 = gb1.predict(xtest)"
   ]
  },
  {
   "cell_type": "code",
   "execution_count": 130,
   "metadata": {},
   "outputs": [
    {
     "data": {
      "image/png": "[encoded data removed]",
      "text/plain": [
       "<Figure size 432x288 with 1 Axes>"
      ]
     },
     "metadata": {
      "needs_background": "light"
     },
     "output_type": "display_data"
    }
   ],
   "source": [
    "# AUC (test)\n",
    "\n",
    "\n",
    "y_pred_proba = gb1.predict_proba(xtest)[::,1]\n",
    "fpr, tpr, _ = metrics.roc_curve(ytest,  y_pred_proba)\n",
    "auc = metrics.roc_auc_score(ytest, ypred2)\n",
    "plt.plot(fpr,tpr,label=\"data 4, auc=\"+str(auc))\n",
    "plt.legend(loc=4)\n",
    "plt.show()"
   ]
  },
  {
   "cell_type": "code",
   "execution_count": null,
   "metadata": {},
   "outputs": [],
   "source": []
  }
 ],
 "metadata": {
  "kernelspec": {
   "display_name": "Python 3",
   "language": "python",
   "name": "python3"
  },
  "language_info": {
   "codemirror_mode": {
    "name": "ipython",
    "version": 3
   },
   "file_extension": ".py",
   "mimetype": "text/x-python",
   "name": "python",
   "nbconvert_exporter": "python",
   "pygments_lexer": "ipython3",
   "version": "3.7.6"
  }
 },
 "nbformat": 4,
 "nbformat_minor": 4
}
