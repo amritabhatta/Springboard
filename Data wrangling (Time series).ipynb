{
 "cells": [
  {
   "cell_type": "markdown",
   "metadata": {},
   "source": [
    "# This notebook  focuses on collecting data, organizing it and making sure it's well defined."
   ]
  },
  {
   "cell_type": "markdown",
   "metadata": {},
   "source": [
    "***"
   ]
  },
  {
   "cell_type": "markdown",
   "metadata": {},
   "source": [
    "We get our data from Zillow website. Our objective is to forecast the real estate housing prices in the United States."
   ]
  },
  {
   "cell_type": "markdown",
   "metadata": {},
   "source": [
    "# 1. Import packages"
   ]
  },
  {
   "cell_type": "code",
   "execution_count": 3,
   "metadata": {},
   "outputs": [],
   "source": [
    "import pandas as pd\n",
    "import numpy as np\n",
    "import os\n",
    "import matplotlib.pyplot as plt\n",
    "from matplotlib import pyplot\n",
    "import seaborn as sns\n",
    "from sklearn.decomposition import PCA\n",
    "from sklearn.preprocessing import scale\n",
    "from statsmodels.tsa.arima_model import ARIMA\n",
    "from datetime import datetime"
   ]
  },
  {
   "cell_type": "code",
   "execution_count": 4,
   "metadata": {},
   "outputs": [],
   "source": [
    "#insert data from csv\n",
    "df = pd.read_csv('/Users/amrita/Desktop/zillow data.csv')"
   ]
  },
  {
   "cell_type": "code",
   "execution_count": 5,
   "metadata": {
    "scrolled": false
   },
   "outputs": [
    {
     "data": {
      "text/html": [
       "<div>\n",
       "<style scoped>\n",
       "    .dataframe tbody tr th:only-of-type {\n",
       "        vertical-align: middle;\n",
       "    }\n",
       "\n",
       "    .dataframe tbody tr th {\n",
       "        vertical-align: top;\n",
       "    }\n",
       "\n",
       "    .dataframe thead th {\n",
       "        text-align: right;\n",
       "    }\n",
       "</style>\n",
       "<table border=\"1\" class=\"dataframe\">\n",
       "  <thead>\n",
       "    <tr style=\"text-align: right;\">\n",
       "      <th></th>\n",
       "      <th>RegionID</th>\n",
       "      <th>SizeRank</th>\n",
       "      <th>RegionName</th>\n",
       "      <th>RegionType</th>\n",
       "      <th>StateName</th>\n",
       "      <th>1/31/00</th>\n",
       "      <th>2/29/00</th>\n",
       "      <th>3/31/00</th>\n",
       "      <th>4/30/00</th>\n",
       "      <th>5/31/00</th>\n",
       "      <th>...</th>\n",
       "      <th>2/28/21</th>\n",
       "      <th>3/31/21</th>\n",
       "      <th>4/30/21</th>\n",
       "      <th>5/31/21</th>\n",
       "      <th>6/30/21</th>\n",
       "      <th>7/31/21</th>\n",
       "      <th>8/31/21</th>\n",
       "      <th>9/30/21</th>\n",
       "      <th>10/31/21</th>\n",
       "      <th>11/30/21</th>\n",
       "    </tr>\n",
       "  </thead>\n",
       "  <tbody>\n",
       "    <tr>\n",
       "      <th>0</th>\n",
       "      <td>102001</td>\n",
       "      <td>0</td>\n",
       "      <td>United States</td>\n",
       "      <td>Country</td>\n",
       "      <td>NaN</td>\n",
       "      <td>127104.0</td>\n",
       "      <td>127448.0</td>\n",
       "      <td>127809.0</td>\n",
       "      <td>128546.0</td>\n",
       "      <td>129288.0</td>\n",
       "      <td>...</td>\n",
       "      <td>274766.0</td>\n",
       "      <td>278419</td>\n",
       "      <td>282276</td>\n",
       "      <td>286980.0</td>\n",
       "      <td>292503</td>\n",
       "      <td>298382.0</td>\n",
       "      <td>303772.0</td>\n",
       "      <td>308393.0</td>\n",
       "      <td>312486.0</td>\n",
       "      <td>316368</td>\n",
       "    </tr>\n",
       "    <tr>\n",
       "      <th>1</th>\n",
       "      <td>394913</td>\n",
       "      <td>1</td>\n",
       "      <td>New York, NY</td>\n",
       "      <td>Msa</td>\n",
       "      <td>NY</td>\n",
       "      <td>223875.0</td>\n",
       "      <td>225213.0</td>\n",
       "      <td>226416.0</td>\n",
       "      <td>228785.0</td>\n",
       "      <td>230991.0</td>\n",
       "      <td>...</td>\n",
       "      <td>520343.0</td>\n",
       "      <td>524700</td>\n",
       "      <td>529431</td>\n",
       "      <td>534932.0</td>\n",
       "      <td>542083</td>\n",
       "      <td>549998.0</td>\n",
       "      <td>557578.0</td>\n",
       "      <td>563469.0</td>\n",
       "      <td>568010.0</td>\n",
       "      <td>571556</td>\n",
       "    </tr>\n",
       "    <tr>\n",
       "      <th>2</th>\n",
       "      <td>753899</td>\n",
       "      <td>2</td>\n",
       "      <td>Los Angeles-Long Beach-Anaheim, CA</td>\n",
       "      <td>Msa</td>\n",
       "      <td>CA</td>\n",
       "      <td>231151.0</td>\n",
       "      <td>231956.0</td>\n",
       "      <td>233189.0</td>\n",
       "      <td>235533.0</td>\n",
       "      <td>238046.0</td>\n",
       "      <td>...</td>\n",
       "      <td>748563.0</td>\n",
       "      <td>756432</td>\n",
       "      <td>767475</td>\n",
       "      <td>783139.0</td>\n",
       "      <td>802944</td>\n",
       "      <td>823842.0</td>\n",
       "      <td>837285.0</td>\n",
       "      <td>846395.0</td>\n",
       "      <td>851153.0</td>\n",
       "      <td>858357</td>\n",
       "    </tr>\n",
       "    <tr>\n",
       "      <th>3</th>\n",
       "      <td>394463</td>\n",
       "      <td>3</td>\n",
       "      <td>Chicago, IL</td>\n",
       "      <td>Msa</td>\n",
       "      <td>IL</td>\n",
       "      <td>169017.0</td>\n",
       "      <td>169416.0</td>\n",
       "      <td>169932.0</td>\n",
       "      <td>170965.0</td>\n",
       "      <td>172060.0</td>\n",
       "      <td>...</td>\n",
       "      <td>258870.0</td>\n",
       "      <td>260970</td>\n",
       "      <td>263993</td>\n",
       "      <td>266728.0</td>\n",
       "      <td>270524</td>\n",
       "      <td>274664.0</td>\n",
       "      <td>278755.0</td>\n",
       "      <td>281808.0</td>\n",
       "      <td>284452.0</td>\n",
       "      <td>287131</td>\n",
       "    </tr>\n",
       "    <tr>\n",
       "      <th>4</th>\n",
       "      <td>394514</td>\n",
       "      <td>4</td>\n",
       "      <td>Dallas-Fort Worth, TX</td>\n",
       "      <td>Msa</td>\n",
       "      <td>TX</td>\n",
       "      <td>130276.0</td>\n",
       "      <td>130380.0</td>\n",
       "      <td>130466.0</td>\n",
       "      <td>130678.0</td>\n",
       "      <td>130900.0</td>\n",
       "      <td>...</td>\n",
       "      <td>280524.0</td>\n",
       "      <td>284541</td>\n",
       "      <td>290061</td>\n",
       "      <td>296469.0</td>\n",
       "      <td>303787</td>\n",
       "      <td>311586.0</td>\n",
       "      <td>319478.0</td>\n",
       "      <td>326661.0</td>\n",
       "      <td>332734.0</td>\n",
       "      <td>338194</td>\n",
       "    </tr>\n",
       "  </tbody>\n",
       "</table>\n",
       "<p>5 rows × 268 columns</p>\n",
       "</div>"
      ],
      "text/plain": [
       "   RegionID  SizeRank                          RegionName RegionType  \\\n",
       "0    102001         0                       United States    Country   \n",
       "1    394913         1                        New York, NY        Msa   \n",
       "2    753899         2  Los Angeles-Long Beach-Anaheim, CA        Msa   \n",
       "3    394463         3                         Chicago, IL        Msa   \n",
       "4    394514         4               Dallas-Fort Worth, TX        Msa   \n",
       "\n",
       "  StateName   1/31/00   2/29/00   3/31/00   4/30/00   5/31/00  ...   2/28/21  \\\n",
       "0       NaN  127104.0  127448.0  127809.0  128546.0  129288.0  ...  274766.0   \n",
       "1        NY  223875.0  225213.0  226416.0  228785.0  230991.0  ...  520343.0   \n",
       "2        CA  231151.0  231956.0  233189.0  235533.0  238046.0  ...  748563.0   \n",
       "3        IL  169017.0  169416.0  169932.0  170965.0  172060.0  ...  258870.0   \n",
       "4        TX  130276.0  130380.0  130466.0  130678.0  130900.0  ...  280524.0   \n",
       "\n",
       "   3/31/21  4/30/21   5/31/21  6/30/21   7/31/21   8/31/21   9/30/21  \\\n",
       "0   278419   282276  286980.0   292503  298382.0  303772.0  308393.0   \n",
       "1   524700   529431  534932.0   542083  549998.0  557578.0  563469.0   \n",
       "2   756432   767475  783139.0   802944  823842.0  837285.0  846395.0   \n",
       "3   260970   263993  266728.0   270524  274664.0  278755.0  281808.0   \n",
       "4   284541   290061  296469.0   303787  311586.0  319478.0  326661.0   \n",
       "\n",
       "   10/31/21  11/30/21  \n",
       "0  312486.0    316368  \n",
       "1  568010.0    571556  \n",
       "2  851153.0    858357  \n",
       "3  284452.0    287131  \n",
       "4  332734.0    338194  \n",
       "\n",
       "[5 rows x 268 columns]"
      ]
     },
     "execution_count": 5,
     "metadata": {},
     "output_type": "execute_result"
    }
   ],
   "source": [
    "df.head()"
   ]
  },
  {
   "cell_type": "markdown",
   "metadata": {},
   "source": [
    "# 2. Transpose data"
   ]
  },
  {
   "cell_type": "code",
   "execution_count": 6,
   "metadata": {},
   "outputs": [],
   "source": [
    "#transpose data \n",
    "ndf= df.melt(id_vars=[\"RegionID\", \"SizeRank\",\"RegionName\",\"RegionType\",\"StateName\" ], \n",
    "        var_name=\"Date\", \n",
    "        value_name=\"Price\")"
   ]
  },
  {
   "cell_type": "code",
   "execution_count": 7,
   "metadata": {
    "scrolled": false
   },
   "outputs": [
    {
     "data": {
      "text/html": [
       "<div>\n",
       "<style scoped>\n",
       "    .dataframe tbody tr th:only-of-type {\n",
       "        vertical-align: middle;\n",
       "    }\n",
       "\n",
       "    .dataframe tbody tr th {\n",
       "        vertical-align: top;\n",
       "    }\n",
       "\n",
       "    .dataframe thead th {\n",
       "        text-align: right;\n",
       "    }\n",
       "</style>\n",
       "<table border=\"1\" class=\"dataframe\">\n",
       "  <thead>\n",
       "    <tr style=\"text-align: right;\">\n",
       "      <th></th>\n",
       "      <th>RegionID</th>\n",
       "      <th>SizeRank</th>\n",
       "      <th>RegionName</th>\n",
       "      <th>RegionType</th>\n",
       "      <th>StateName</th>\n",
       "      <th>Date</th>\n",
       "      <th>Price</th>\n",
       "    </tr>\n",
       "  </thead>\n",
       "  <tbody>\n",
       "    <tr>\n",
       "      <th>0</th>\n",
       "      <td>102001</td>\n",
       "      <td>0</td>\n",
       "      <td>United States</td>\n",
       "      <td>Country</td>\n",
       "      <td>NaN</td>\n",
       "      <td>1/31/00</td>\n",
       "      <td>127104.0</td>\n",
       "    </tr>\n",
       "    <tr>\n",
       "      <th>1</th>\n",
       "      <td>394913</td>\n",
       "      <td>1</td>\n",
       "      <td>New York, NY</td>\n",
       "      <td>Msa</td>\n",
       "      <td>NY</td>\n",
       "      <td>1/31/00</td>\n",
       "      <td>223875.0</td>\n",
       "    </tr>\n",
       "    <tr>\n",
       "      <th>2</th>\n",
       "      <td>753899</td>\n",
       "      <td>2</td>\n",
       "      <td>Los Angeles-Long Beach-Anaheim, CA</td>\n",
       "      <td>Msa</td>\n",
       "      <td>CA</td>\n",
       "      <td>1/31/00</td>\n",
       "      <td>231151.0</td>\n",
       "    </tr>\n",
       "    <tr>\n",
       "      <th>3</th>\n",
       "      <td>394463</td>\n",
       "      <td>3</td>\n",
       "      <td>Chicago, IL</td>\n",
       "      <td>Msa</td>\n",
       "      <td>IL</td>\n",
       "      <td>1/31/00</td>\n",
       "      <td>169017.0</td>\n",
       "    </tr>\n",
       "    <tr>\n",
       "      <th>4</th>\n",
       "      <td>394514</td>\n",
       "      <td>4</td>\n",
       "      <td>Dallas-Fort Worth, TX</td>\n",
       "      <td>Msa</td>\n",
       "      <td>TX</td>\n",
       "      <td>1/31/00</td>\n",
       "      <td>130276.0</td>\n",
       "    </tr>\n",
       "  </tbody>\n",
       "</table>\n",
       "</div>"
      ],
      "text/plain": [
       "   RegionID  SizeRank                          RegionName RegionType  \\\n",
       "0    102001         0                       United States    Country   \n",
       "1    394913         1                        New York, NY        Msa   \n",
       "2    753899         2  Los Angeles-Long Beach-Anaheim, CA        Msa   \n",
       "3    394463         3                         Chicago, IL        Msa   \n",
       "4    394514         4               Dallas-Fort Worth, TX        Msa   \n",
       "\n",
       "  StateName     Date     Price  \n",
       "0       NaN  1/31/00  127104.0  \n",
       "1        NY  1/31/00  223875.0  \n",
       "2        CA  1/31/00  231151.0  \n",
       "3        IL  1/31/00  169017.0  \n",
       "4        TX  1/31/00  130276.0  "
      ]
     },
     "execution_count": 7,
     "metadata": {},
     "output_type": "execute_result"
    }
   ],
   "source": [
    "ndf.head()"
   ]
  },
  {
   "cell_type": "code",
   "execution_count": 8,
   "metadata": {
    "scrolled": true
   },
   "outputs": [
    {
     "data": {
      "text/plain": [
       "RegionID        int64\n",
       "SizeRank        int64\n",
       "RegionName     object\n",
       "RegionType     object\n",
       "StateName      object\n",
       "Date           object\n",
       "Price         float64\n",
       "dtype: object"
      ]
     },
     "execution_count": 8,
     "metadata": {},
     "output_type": "execute_result"
    }
   ],
   "source": [
    "#summary of the datatype\n",
    "ndf.dtypes"
   ]
  },
  {
   "cell_type": "code",
   "execution_count": null,
   "metadata": {},
   "outputs": [],
   "source": [
    "# notes: March is computed as avg between february and april."
   ]
  },
  {
   "cell_type": "markdown",
   "metadata": {},
   "source": [
    "# 3. Analysis of missing values"
   ]
  },
  {
   "cell_type": "code",
   "execution_count": 9,
   "metadata": {},
   "outputs": [
    {
     "data": {
      "text/plain": [
       "RegionID          0\n",
       "SizeRank          0\n",
       "RegionName        0\n",
       "RegionType        0\n",
       "StateName       263\n",
       "Date              0\n",
       "Price         48727\n",
       "dtype: int64"
      ]
     },
     "execution_count": 9,
     "metadata": {},
     "output_type": "execute_result"
    }
   ],
   "source": [
    "#no. of missing values by column\n",
    "ndf.isna().sum()"
   ]
  },
  {
   "cell_type": "code",
   "execution_count": 10,
   "metadata": {},
   "outputs": [
    {
     "data": {
      "text/plain": [
       "(263, 7)"
      ]
     },
     "execution_count": 10,
     "metadata": {},
     "output_type": "execute_result"
    }
   ],
   "source": [
    "#Checking for the total count of Region name=United States \n",
    "\n",
    "i= ndf[ndf['RegionName']=='United States']\n",
    "i.shape"
   ]
  },
  {
   "cell_type": "code",
   "execution_count": 11,
   "metadata": {
    "scrolled": true
   },
   "outputs": [
    {
     "data": {
      "text/html": [
       "<div>\n",
       "<style scoped>\n",
       "    .dataframe tbody tr th:only-of-type {\n",
       "        vertical-align: middle;\n",
       "    }\n",
       "\n",
       "    .dataframe tbody tr th {\n",
       "        vertical-align: top;\n",
       "    }\n",
       "\n",
       "    .dataframe thead th {\n",
       "        text-align: right;\n",
       "    }\n",
       "</style>\n",
       "<table border=\"1\" class=\"dataframe\">\n",
       "  <thead>\n",
       "    <tr style=\"text-align: right;\">\n",
       "      <th></th>\n",
       "      <th>RegionID</th>\n",
       "      <th>SizeRank</th>\n",
       "      <th>RegionName</th>\n",
       "      <th>RegionType</th>\n",
       "      <th>StateName</th>\n",
       "      <th>Date</th>\n",
       "      <th>Price</th>\n",
       "    </tr>\n",
       "  </thead>\n",
       "  <tbody>\n",
       "    <tr>\n",
       "      <th>0</th>\n",
       "      <td>102001</td>\n",
       "      <td>0</td>\n",
       "      <td>United States</td>\n",
       "      <td>Country</td>\n",
       "      <td>NaN</td>\n",
       "      <td>1/31/00</td>\n",
       "      <td>127104.0</td>\n",
       "    </tr>\n",
       "    <tr>\n",
       "      <th>908</th>\n",
       "      <td>102001</td>\n",
       "      <td>0</td>\n",
       "      <td>United States</td>\n",
       "      <td>Country</td>\n",
       "      <td>NaN</td>\n",
       "      <td>2/29/00</td>\n",
       "      <td>127448.0</td>\n",
       "    </tr>\n",
       "    <tr>\n",
       "      <th>1816</th>\n",
       "      <td>102001</td>\n",
       "      <td>0</td>\n",
       "      <td>United States</td>\n",
       "      <td>Country</td>\n",
       "      <td>NaN</td>\n",
       "      <td>3/31/00</td>\n",
       "      <td>127809.0</td>\n",
       "    </tr>\n",
       "    <tr>\n",
       "      <th>2724</th>\n",
       "      <td>102001</td>\n",
       "      <td>0</td>\n",
       "      <td>United States</td>\n",
       "      <td>Country</td>\n",
       "      <td>NaN</td>\n",
       "      <td>4/30/00</td>\n",
       "      <td>128546.0</td>\n",
       "    </tr>\n",
       "    <tr>\n",
       "      <th>3632</th>\n",
       "      <td>102001</td>\n",
       "      <td>0</td>\n",
       "      <td>United States</td>\n",
       "      <td>Country</td>\n",
       "      <td>NaN</td>\n",
       "      <td>5/31/00</td>\n",
       "      <td>129288.0</td>\n",
       "    </tr>\n",
       "  </tbody>\n",
       "</table>\n",
       "</div>"
      ],
      "text/plain": [
       "      RegionID  SizeRank     RegionName RegionType StateName     Date  \\\n",
       "0       102001         0  United States    Country       NaN  1/31/00   \n",
       "908     102001         0  United States    Country       NaN  2/29/00   \n",
       "1816    102001         0  United States    Country       NaN  3/31/00   \n",
       "2724    102001         0  United States    Country       NaN  4/30/00   \n",
       "3632    102001         0  United States    Country       NaN  5/31/00   \n",
       "\n",
       "         Price  \n",
       "0     127104.0  \n",
       "908   127448.0  \n",
       "1816  127809.0  \n",
       "2724  128546.0  \n",
       "3632  129288.0  "
      ]
     },
     "execution_count": 11,
     "metadata": {},
     "output_type": "execute_result"
    }
   ],
   "source": [
    "i.head()"
   ]
  },
  {
   "cell_type": "code",
   "execution_count": 12,
   "metadata": {
    "scrolled": true
   },
   "outputs": [
    {
     "data": {
      "text/html": [
       "<div>\n",
       "<style scoped>\n",
       "    .dataframe tbody tr th:only-of-type {\n",
       "        vertical-align: middle;\n",
       "    }\n",
       "\n",
       "    .dataframe tbody tr th {\n",
       "        vertical-align: top;\n",
       "    }\n",
       "\n",
       "    .dataframe thead th {\n",
       "        text-align: right;\n",
       "    }\n",
       "</style>\n",
       "<table border=\"1\" class=\"dataframe\">\n",
       "  <thead>\n",
       "    <tr style=\"text-align: right;\">\n",
       "      <th></th>\n",
       "      <th>RegionID</th>\n",
       "      <th>SizeRank</th>\n",
       "      <th>RegionName</th>\n",
       "      <th>RegionType</th>\n",
       "      <th>StateName</th>\n",
       "      <th>Date</th>\n",
       "      <th>Price</th>\n",
       "    </tr>\n",
       "  </thead>\n",
       "  <tbody>\n",
       "    <tr>\n",
       "      <th>1</th>\n",
       "      <td>394913</td>\n",
       "      <td>1</td>\n",
       "      <td>New York, NY</td>\n",
       "      <td>Msa</td>\n",
       "      <td>NY</td>\n",
       "      <td>1/31/00</td>\n",
       "      <td>223875.0</td>\n",
       "    </tr>\n",
       "    <tr>\n",
       "      <th>2</th>\n",
       "      <td>753899</td>\n",
       "      <td>2</td>\n",
       "      <td>Los Angeles-Long Beach-Anaheim, CA</td>\n",
       "      <td>Msa</td>\n",
       "      <td>CA</td>\n",
       "      <td>1/31/00</td>\n",
       "      <td>231151.0</td>\n",
       "    </tr>\n",
       "    <tr>\n",
       "      <th>3</th>\n",
       "      <td>394463</td>\n",
       "      <td>3</td>\n",
       "      <td>Chicago, IL</td>\n",
       "      <td>Msa</td>\n",
       "      <td>IL</td>\n",
       "      <td>1/31/00</td>\n",
       "      <td>169017.0</td>\n",
       "    </tr>\n",
       "    <tr>\n",
       "      <th>4</th>\n",
       "      <td>394514</td>\n",
       "      <td>4</td>\n",
       "      <td>Dallas-Fort Worth, TX</td>\n",
       "      <td>Msa</td>\n",
       "      <td>TX</td>\n",
       "      <td>1/31/00</td>\n",
       "      <td>130276.0</td>\n",
       "    </tr>\n",
       "    <tr>\n",
       "      <th>5</th>\n",
       "      <td>394974</td>\n",
       "      <td>5</td>\n",
       "      <td>Philadelphia, PA</td>\n",
       "      <td>Msa</td>\n",
       "      <td>PA</td>\n",
       "      <td>1/31/00</td>\n",
       "      <td>129615.0</td>\n",
       "    </tr>\n",
       "  </tbody>\n",
       "</table>\n",
       "</div>"
      ],
      "text/plain": [
       "   RegionID  SizeRank                          RegionName RegionType  \\\n",
       "1    394913         1                        New York, NY        Msa   \n",
       "2    753899         2  Los Angeles-Long Beach-Anaheim, CA        Msa   \n",
       "3    394463         3                         Chicago, IL        Msa   \n",
       "4    394514         4               Dallas-Fort Worth, TX        Msa   \n",
       "5    394974         5                    Philadelphia, PA        Msa   \n",
       "\n",
       "  StateName     Date     Price  \n",
       "1        NY  1/31/00  223875.0  \n",
       "2        CA  1/31/00  231151.0  \n",
       "3        IL  1/31/00  169017.0  \n",
       "4        TX  1/31/00  130276.0  \n",
       "5        PA  1/31/00  129615.0  "
      ]
     },
     "execution_count": 12,
     "metadata": {},
     "output_type": "execute_result"
    }
   ],
   "source": [
    "#Dropping all rows with Region Name=United States and creating a new dataframe\n",
    "\n",
    "df_new= ndf[ndf.RegionName != 'United States']\n",
    "df_new.head()"
   ]
  },
  {
   "cell_type": "code",
   "execution_count": 13,
   "metadata": {
    "scrolled": true
   },
   "outputs": [
    {
     "data": {
      "text/html": [
       "<div>\n",
       "<style scoped>\n",
       "    .dataframe tbody tr th:only-of-type {\n",
       "        vertical-align: middle;\n",
       "    }\n",
       "\n",
       "    .dataframe tbody tr th {\n",
       "        vertical-align: top;\n",
       "    }\n",
       "\n",
       "    .dataframe thead th {\n",
       "        text-align: right;\n",
       "    }\n",
       "</style>\n",
       "<table border=\"1\" class=\"dataframe\">\n",
       "  <thead>\n",
       "    <tr style=\"text-align: right;\">\n",
       "      <th></th>\n",
       "      <th>RegionID</th>\n",
       "      <th>SizeRank</th>\n",
       "      <th>Price</th>\n",
       "    </tr>\n",
       "  </thead>\n",
       "  <tbody>\n",
       "    <tr>\n",
       "      <th>count</th>\n",
       "      <td>238541.000000</td>\n",
       "      <td>238541.000000</td>\n",
       "      <td>1.898140e+05</td>\n",
       "    </tr>\n",
       "    <tr>\n",
       "      <th>mean</th>\n",
       "      <td>415361.502756</td>\n",
       "      <td>458.604190</td>\n",
       "      <td>1.612216e+05</td>\n",
       "    </tr>\n",
       "    <tr>\n",
       "      <th>std</th>\n",
       "      <td>83488.890005</td>\n",
       "      <td>267.525459</td>\n",
       "      <td>1.038787e+05</td>\n",
       "    </tr>\n",
       "    <tr>\n",
       "      <th>min</th>\n",
       "      <td>394297.000000</td>\n",
       "      <td>1.000000</td>\n",
       "      <td>2.848100e+04</td>\n",
       "    </tr>\n",
       "    <tr>\n",
       "      <th>25%</th>\n",
       "      <td>394548.000000</td>\n",
       "      <td>227.000000</td>\n",
       "      <td>9.925225e+04</td>\n",
       "    </tr>\n",
       "    <tr>\n",
       "      <th>50%</th>\n",
       "      <td>394804.000000</td>\n",
       "      <td>455.000000</td>\n",
       "      <td>1.320360e+05</td>\n",
       "    </tr>\n",
       "    <tr>\n",
       "      <th>75%</th>\n",
       "      <td>395050.000000</td>\n",
       "      <td>687.000000</td>\n",
       "      <td>1.877395e+05</td>\n",
       "    </tr>\n",
       "    <tr>\n",
       "      <th>max</th>\n",
       "      <td>753929.000000</td>\n",
       "      <td>933.000000</td>\n",
       "      <td>1.506129e+06</td>\n",
       "    </tr>\n",
       "  </tbody>\n",
       "</table>\n",
       "</div>"
      ],
      "text/plain": [
       "            RegionID       SizeRank         Price\n",
       "count  238541.000000  238541.000000  1.898140e+05\n",
       "mean   415361.502756     458.604190  1.612216e+05\n",
       "std     83488.890005     267.525459  1.038787e+05\n",
       "min    394297.000000       1.000000  2.848100e+04\n",
       "25%    394548.000000     227.000000  9.925225e+04\n",
       "50%    394804.000000     455.000000  1.320360e+05\n",
       "75%    395050.000000     687.000000  1.877395e+05\n",
       "max    753929.000000     933.000000  1.506129e+06"
      ]
     },
     "execution_count": 13,
     "metadata": {},
     "output_type": "execute_result"
    }
   ],
   "source": [
    "df_new.describe()"
   ]
  },
  {
   "cell_type": "markdown",
   "metadata": {},
   "source": [
    "***"
   ]
  },
  {
   "cell_type": "markdown",
   "metadata": {},
   "source": [
    "# 4. Check time gaps"
   ]
  },
  {
   "cell_type": "code",
   "execution_count": 46,
   "metadata": {},
   "outputs": [
    {
     "data": {
      "text/html": [
       "<div>\n",
       "<style scoped>\n",
       "    .dataframe tbody tr th:only-of-type {\n",
       "        vertical-align: middle;\n",
       "    }\n",
       "\n",
       "    .dataframe tbody tr th {\n",
       "        vertical-align: top;\n",
       "    }\n",
       "\n",
       "    .dataframe thead th {\n",
       "        text-align: right;\n",
       "    }\n",
       "</style>\n",
       "<table border=\"1\" class=\"dataframe\">\n",
       "  <thead>\n",
       "    <tr style=\"text-align: right;\">\n",
       "      <th></th>\n",
       "      <th>RegionID</th>\n",
       "      <th>SizeRank</th>\n",
       "      <th>Price</th>\n",
       "    </tr>\n",
       "  </thead>\n",
       "  <tbody>\n",
       "    <tr>\n",
       "      <th>count</th>\n",
       "      <td>238541.000000</td>\n",
       "      <td>238541.000000</td>\n",
       "      <td>1.898140e+05</td>\n",
       "    </tr>\n",
       "    <tr>\n",
       "      <th>mean</th>\n",
       "      <td>415361.502756</td>\n",
       "      <td>458.604190</td>\n",
       "      <td>1.612216e+05</td>\n",
       "    </tr>\n",
       "    <tr>\n",
       "      <th>std</th>\n",
       "      <td>83488.890005</td>\n",
       "      <td>267.525459</td>\n",
       "      <td>1.038787e+05</td>\n",
       "    </tr>\n",
       "    <tr>\n",
       "      <th>min</th>\n",
       "      <td>394297.000000</td>\n",
       "      <td>1.000000</td>\n",
       "      <td>2.848100e+04</td>\n",
       "    </tr>\n",
       "    <tr>\n",
       "      <th>25%</th>\n",
       "      <td>394548.000000</td>\n",
       "      <td>227.000000</td>\n",
       "      <td>9.925225e+04</td>\n",
       "    </tr>\n",
       "    <tr>\n",
       "      <th>50%</th>\n",
       "      <td>394804.000000</td>\n",
       "      <td>455.000000</td>\n",
       "      <td>1.320360e+05</td>\n",
       "    </tr>\n",
       "    <tr>\n",
       "      <th>75%</th>\n",
       "      <td>395050.000000</td>\n",
       "      <td>687.000000</td>\n",
       "      <td>1.877395e+05</td>\n",
       "    </tr>\n",
       "    <tr>\n",
       "      <th>max</th>\n",
       "      <td>753929.000000</td>\n",
       "      <td>933.000000</td>\n",
       "      <td>1.506129e+06</td>\n",
       "    </tr>\n",
       "  </tbody>\n",
       "</table>\n",
       "</div>"
      ],
      "text/plain": [
       "            RegionID       SizeRank         Price\n",
       "count  238541.000000  238541.000000  1.898140e+05\n",
       "mean   415361.502756     458.604190  1.612216e+05\n",
       "std     83488.890005     267.525459  1.038787e+05\n",
       "min    394297.000000       1.000000  2.848100e+04\n",
       "25%    394548.000000     227.000000  9.925225e+04\n",
       "50%    394804.000000     455.000000  1.320360e+05\n",
       "75%    395050.000000     687.000000  1.877395e+05\n",
       "max    753929.000000     933.000000  1.506129e+06"
      ]
     },
     "execution_count": 46,
     "metadata": {},
     "output_type": "execute_result"
    }
   ],
   "source": [
    "df_gaps.describe()"
   ]
  },
  {
   "cell_type": "code",
   "execution_count": 47,
   "metadata": {},
   "outputs": [
    {
     "data": {
      "text/html": [
       "<div>\n",
       "<style scoped>\n",
       "    .dataframe tbody tr th:only-of-type {\n",
       "        vertical-align: middle;\n",
       "    }\n",
       "\n",
       "    .dataframe tbody tr th {\n",
       "        vertical-align: top;\n",
       "    }\n",
       "\n",
       "    .dataframe thead th {\n",
       "        text-align: right;\n",
       "    }\n",
       "</style>\n",
       "<table border=\"1\" class=\"dataframe\">\n",
       "  <thead>\n",
       "    <tr style=\"text-align: right;\">\n",
       "      <th></th>\n",
       "      <th>RegionID</th>\n",
       "      <th>SizeRank</th>\n",
       "      <th>RegionName</th>\n",
       "      <th>RegionType</th>\n",
       "      <th>StateName</th>\n",
       "      <th>Price</th>\n",
       "    </tr>\n",
       "    <tr>\n",
       "      <th>Date</th>\n",
       "      <th></th>\n",
       "      <th></th>\n",
       "      <th></th>\n",
       "      <th></th>\n",
       "      <th></th>\n",
       "      <th></th>\n",
       "    </tr>\n",
       "  </thead>\n",
       "  <tbody>\n",
       "    <tr>\n",
       "      <th>2000-01-31</th>\n",
       "      <td>394913</td>\n",
       "      <td>1</td>\n",
       "      <td>New York, NY</td>\n",
       "      <td>Msa</td>\n",
       "      <td>NY</td>\n",
       "      <td>223875.0</td>\n",
       "    </tr>\n",
       "    <tr>\n",
       "      <th>2000-01-31</th>\n",
       "      <td>753899</td>\n",
       "      <td>2</td>\n",
       "      <td>Los Angeles-Long Beach-Anaheim, CA</td>\n",
       "      <td>Msa</td>\n",
       "      <td>CA</td>\n",
       "      <td>231151.0</td>\n",
       "    </tr>\n",
       "    <tr>\n",
       "      <th>2000-01-31</th>\n",
       "      <td>394463</td>\n",
       "      <td>3</td>\n",
       "      <td>Chicago, IL</td>\n",
       "      <td>Msa</td>\n",
       "      <td>IL</td>\n",
       "      <td>169017.0</td>\n",
       "    </tr>\n",
       "    <tr>\n",
       "      <th>2000-01-31</th>\n",
       "      <td>394514</td>\n",
       "      <td>4</td>\n",
       "      <td>Dallas-Fort Worth, TX</td>\n",
       "      <td>Msa</td>\n",
       "      <td>TX</td>\n",
       "      <td>130276.0</td>\n",
       "    </tr>\n",
       "    <tr>\n",
       "      <th>2000-01-31</th>\n",
       "      <td>394974</td>\n",
       "      <td>5</td>\n",
       "      <td>Philadelphia, PA</td>\n",
       "      <td>Msa</td>\n",
       "      <td>PA</td>\n",
       "      <td>129615.0</td>\n",
       "    </tr>\n",
       "  </tbody>\n",
       "</table>\n",
       "</div>"
      ],
      "text/plain": [
       "            RegionID  SizeRank                          RegionName RegionType  \\\n",
       "Date                                                                            \n",
       "2000-01-31    394913         1                        New York, NY        Msa   \n",
       "2000-01-31    753899         2  Los Angeles-Long Beach-Anaheim, CA        Msa   \n",
       "2000-01-31    394463         3                         Chicago, IL        Msa   \n",
       "2000-01-31    394514         4               Dallas-Fort Worth, TX        Msa   \n",
       "2000-01-31    394974         5                    Philadelphia, PA        Msa   \n",
       "\n",
       "           StateName     Price  \n",
       "Date                            \n",
       "2000-01-31        NY  223875.0  \n",
       "2000-01-31        CA  231151.0  \n",
       "2000-01-31        IL  169017.0  \n",
       "2000-01-31        TX  130276.0  \n",
       "2000-01-31        PA  129615.0  "
      ]
     },
     "execution_count": 47,
     "metadata": {},
     "output_type": "execute_result"
    }
   ],
   "source": [
    "df_gaps.head()"
   ]
  },
  {
   "cell_type": "code",
   "execution_count": 45,
   "metadata": {},
   "outputs": [
    {
     "data": {
      "text/html": [
       "<div>\n",
       "<style scoped>\n",
       "    .dataframe tbody tr th:only-of-type {\n",
       "        vertical-align: middle;\n",
       "    }\n",
       "\n",
       "    .dataframe tbody tr th {\n",
       "        vertical-align: top;\n",
       "    }\n",
       "\n",
       "    .dataframe thead th {\n",
       "        text-align: right;\n",
       "    }\n",
       "</style>\n",
       "<table border=\"1\" class=\"dataframe\">\n",
       "  <thead>\n",
       "    <tr style=\"text-align: right;\">\n",
       "      <th></th>\n",
       "      <th>RegionID</th>\n",
       "      <th>SizeRank</th>\n",
       "      <th>RegionName</th>\n",
       "      <th>RegionType</th>\n",
       "      <th>StateName</th>\n",
       "      <th>Price</th>\n",
       "    </tr>\n",
       "    <tr>\n",
       "      <th>Date</th>\n",
       "      <th></th>\n",
       "      <th></th>\n",
       "      <th></th>\n",
       "      <th></th>\n",
       "      <th></th>\n",
       "      <th></th>\n",
       "    </tr>\n",
       "  </thead>\n",
       "  <tbody>\n",
       "    <tr>\n",
       "      <th>2021-11-30</th>\n",
       "      <td>394767</td>\n",
       "      <td>929</td>\n",
       "      <td>Lamesa, TX</td>\n",
       "      <td>Msa</td>\n",
       "      <td>TX</td>\n",
       "      <td>90119.0</td>\n",
       "    </tr>\n",
       "    <tr>\n",
       "      <th>2021-11-30</th>\n",
       "      <td>753874</td>\n",
       "      <td>930</td>\n",
       "      <td>Craig, CO</td>\n",
       "      <td>Msa</td>\n",
       "      <td>CO</td>\n",
       "      <td>244056.0</td>\n",
       "    </tr>\n",
       "    <tr>\n",
       "      <th>2021-11-30</th>\n",
       "      <td>394968</td>\n",
       "      <td>931</td>\n",
       "      <td>Pecos, TX</td>\n",
       "      <td>Msa</td>\n",
       "      <td>TX</td>\n",
       "      <td>168297.0</td>\n",
       "    </tr>\n",
       "    <tr>\n",
       "      <th>2021-11-30</th>\n",
       "      <td>395188</td>\n",
       "      <td>932</td>\n",
       "      <td>Vernon, TX</td>\n",
       "      <td>Msa</td>\n",
       "      <td>TX</td>\n",
       "      <td>75166.0</td>\n",
       "    </tr>\n",
       "    <tr>\n",
       "      <th>2021-11-30</th>\n",
       "      <td>394743</td>\n",
       "      <td>933</td>\n",
       "      <td>Ketchikan, AK</td>\n",
       "      <td>Msa</td>\n",
       "      <td>AK</td>\n",
       "      <td>339435.0</td>\n",
       "    </tr>\n",
       "  </tbody>\n",
       "</table>\n",
       "</div>"
      ],
      "text/plain": [
       "            RegionID  SizeRank     RegionName RegionType StateName     Price\n",
       "Date                                                                        \n",
       "2021-11-30    394767       929     Lamesa, TX        Msa        TX   90119.0\n",
       "2021-11-30    753874       930      Craig, CO        Msa        CO  244056.0\n",
       "2021-11-30    394968       931      Pecos, TX        Msa        TX  168297.0\n",
       "2021-11-30    395188       932     Vernon, TX        Msa        TX   75166.0\n",
       "2021-11-30    394743       933  Ketchikan, AK        Msa        AK  339435.0"
      ]
     },
     "execution_count": 45,
     "metadata": {},
     "output_type": "execute_result"
    }
   ],
   "source": [
    "df_gaps.tail()"
   ]
  },
  {
   "cell_type": "code",
   "execution_count": 17,
   "metadata": {},
   "outputs": [
    {
     "data": {
      "text/plain": [
       "907"
      ]
     },
     "execution_count": 17,
     "metadata": {},
     "output_type": "execute_result"
    }
   ],
   "source": [
    "df_gaps.RegionName.nunique()"
   ]
  },
  {
   "cell_type": "code",
   "execution_count": 20,
   "metadata": {
    "scrolled": false
   },
   "outputs": [
    {
     "data": {
      "text/plain": [
       "Farmington, NM                   263\n",
       "Elko, NV                         263\n",
       "Picayune, MS                     263\n",
       "California-Lexington Park, MD    263\n",
       "Lawton, OK                       263\n",
       "                                ... \n",
       "Carson City, NV                  263\n",
       "St. George, UT                   263\n",
       "Gloversville, NY                 263\n",
       "Greeley, CO                      263\n",
       "Burlington, NC                   263\n",
       "Name: RegionName, Length: 907, dtype: int64"
      ]
     },
     "execution_count": 20,
     "metadata": {},
     "output_type": "execute_result"
    }
   ],
   "source": [
    "# no time gaps present\n",
    "df_gaps.RegionName.value_counts(ascending=False)"
   ]
  },
  {
   "cell_type": "markdown",
   "metadata": {},
   "source": [
    "# 5. Skewness(by each region)"
   ]
  },
  {
   "cell_type": "code",
   "execution_count": 38,
   "metadata": {},
   "outputs": [
    {
     "data": {
      "text/html": [
       "<div>\n",
       "<style scoped>\n",
       "    .dataframe tbody tr th:only-of-type {\n",
       "        vertical-align: middle;\n",
       "    }\n",
       "\n",
       "    .dataframe tbody tr th {\n",
       "        vertical-align: top;\n",
       "    }\n",
       "\n",
       "    .dataframe thead th {\n",
       "        text-align: right;\n",
       "    }\n",
       "</style>\n",
       "<table border=\"1\" class=\"dataframe\">\n",
       "  <thead>\n",
       "    <tr style=\"text-align: right;\">\n",
       "      <th></th>\n",
       "      <th>RegionName</th>\n",
       "      <th>Price</th>\n",
       "    </tr>\n",
       "  </thead>\n",
       "  <tbody>\n",
       "    <tr>\n",
       "      <th>73</th>\n",
       "      <td>Beckley, WV</td>\n",
       "      <td>-1.077982</td>\n",
       "    </tr>\n",
       "    <tr>\n",
       "      <th>81</th>\n",
       "      <td>Bennington, VT</td>\n",
       "      <td>-1.007011</td>\n",
       "    </tr>\n",
       "    <tr>\n",
       "      <th>311</th>\n",
       "      <td>Gettysburg, PA</td>\n",
       "      <td>-0.952546</td>\n",
       "    </tr>\n",
       "    <tr>\n",
       "      <th>710</th>\n",
       "      <td>Rutland, VT</td>\n",
       "      <td>-0.882200</td>\n",
       "    </tr>\n",
       "    <tr>\n",
       "      <th>854</th>\n",
       "      <td>Virginia Beach, VA</td>\n",
       "      <td>-0.858403</td>\n",
       "    </tr>\n",
       "    <tr>\n",
       "      <th>...</th>\n",
       "      <td>...</td>\n",
       "      <td>...</td>\n",
       "    </tr>\n",
       "    <tr>\n",
       "      <th>456</th>\n",
       "      <td>Lebanon, PA</td>\n",
       "      <td>2.060868</td>\n",
       "    </tr>\n",
       "    <tr>\n",
       "      <th>540</th>\n",
       "      <td>Missoula, MT</td>\n",
       "      <td>2.131235</td>\n",
       "    </tr>\n",
       "    <tr>\n",
       "      <th>389</th>\n",
       "      <td>Jackson, TN</td>\n",
       "      <td>2.138321</td>\n",
       "    </tr>\n",
       "    <tr>\n",
       "      <th>198</th>\n",
       "      <td>Cullowhee, NC</td>\n",
       "      <td>2.207258</td>\n",
       "    </tr>\n",
       "    <tr>\n",
       "      <th>669</th>\n",
       "      <td>Pottsville, PA</td>\n",
       "      <td>2.375071</td>\n",
       "    </tr>\n",
       "  </tbody>\n",
       "</table>\n",
       "<p>907 rows × 2 columns</p>\n",
       "</div>"
      ],
      "text/plain": [
       "             RegionName     Price\n",
       "73          Beckley, WV -1.077982\n",
       "81       Bennington, VT -1.007011\n",
       "311      Gettysburg, PA -0.952546\n",
       "710         Rutland, VT -0.882200\n",
       "854  Virginia Beach, VA -0.858403\n",
       "..                  ...       ...\n",
       "456         Lebanon, PA  2.060868\n",
       "540        Missoula, MT  2.131235\n",
       "389         Jackson, TN  2.138321\n",
       "198       Cullowhee, NC  2.207258\n",
       "669      Pottsville, PA  2.375071\n",
       "\n",
       "[907 rows x 2 columns]"
      ]
     },
     "execution_count": 38,
     "metadata": {},
     "output_type": "execute_result"
    }
   ],
   "source": [
    "#check skewness\n",
    "df_gaps.groupby('RegionName').Price.skew().reset_index().sort_values(by=['Price'])"
   ]
  },
  {
   "cell_type": "code",
   "execution_count": 30,
   "metadata": {},
   "outputs": [
    {
     "data": {
      "text/plain": [
       "<matplotlib.axes._subplots.AxesSubplot at 0x1a28155c10>"
      ]
     },
     "execution_count": 30,
     "metadata": {},
     "output_type": "execute_result"
    },
    {
     "data": {
      "image/png": "[encoded data removed]",
      "text/plain": [
       "<Figure size 432x288 with 1 Axes>"
      ]
     },
     "metadata": {
      "needs_background": "light"
     },
     "output_type": "display_data"
    }
   ],
   "source": [
    "df_gaps[df_gaps.RegionName=='Beckley, WV'].Price.hist(bins=20)\n"
   ]
  },
  {
   "cell_type": "code",
   "execution_count": 37,
   "metadata": {},
   "outputs": [
    {
     "data": {
      "text/plain": [
       "<matplotlib.axes._subplots.AxesSubplot at 0x1a28ae2b90>"
      ]
     },
     "execution_count": 37,
     "metadata": {},
     "output_type": "execute_result"
    },
    {
     "data": {
      "image/png": "[encoded data removed]",
      "text/plain": [
       "<Figure size 432x288 with 1 Axes>"
      ]
     },
     "metadata": {
      "needs_background": "light"
     },
     "output_type": "display_data"
    }
   ],
   "source": [
    "df_gaps[df_gaps.RegionName=='San Jose, CA'].Price.hist(bins=20)\n"
   ]
  },
  {
   "cell_type": "code",
   "execution_count": 39,
   "metadata": {},
   "outputs": [
    {
     "data": {
      "text/plain": [
       "RegionID          0\n",
       "SizeRank          0\n",
       "RegionName        0\n",
       "RegionType        0\n",
       "StateName         0\n",
       "Price         48727\n",
       "dtype: int64"
      ]
     },
     "execution_count": 39,
     "metadata": {},
     "output_type": "execute_result"
    }
   ],
   "source": [
    "#no. of missing values by column in the new dataset\n",
    "\n",
    "df_gaps.isna().sum()"
   ]
  },
  {
   "cell_type": "code",
   "execution_count": 40,
   "metadata": {},
   "outputs": [
    {
     "name": "stdout",
     "output_type": "stream",
     "text": [
      "           column_name  percent_missing\n",
      "RegionID      RegionID         0.000000\n",
      "SizeRank      SizeRank         0.000000\n",
      "RegionName  RegionName         0.000000\n",
      "RegionType  RegionType         0.000000\n",
      "StateName    StateName         0.000000\n",
      "Price            Price        20.427096\n"
     ]
    }
   ],
   "source": [
    "#percent missing values by each column\n",
    "\n",
    "percent_missing = df_gaps.isnull().sum() * 100 / len(df_gaps)\n",
    "missing_value_df = pd.DataFrame({'column_name': df_gaps.columns,\n",
    "                                 'percent_missing': percent_missing})\n",
    "missing_value_df.sort_values('percent_missing', inplace=True)\n",
    "print(missing_value_df)"
   ]
  },
  {
   "cell_type": "markdown",
   "metadata": {},
   "source": [
    "# 6. Imputation"
   ]
  },
  {
   "cell_type": "code",
   "execution_count": 41,
   "metadata": {
    "scrolled": true
   },
   "outputs": [
    {
     "data": {
      "text/html": [
       "<div>\n",
       "<style scoped>\n",
       "    .dataframe tbody tr th:only-of-type {\n",
       "        vertical-align: middle;\n",
       "    }\n",
       "\n",
       "    .dataframe tbody tr th {\n",
       "        vertical-align: top;\n",
       "    }\n",
       "\n",
       "    .dataframe thead th {\n",
       "        text-align: right;\n",
       "    }\n",
       "</style>\n",
       "<table border=\"1\" class=\"dataframe\">\n",
       "  <thead>\n",
       "    <tr style=\"text-align: right;\">\n",
       "      <th></th>\n",
       "      <th>RegionID</th>\n",
       "      <th>SizeRank</th>\n",
       "      <th>RegionName</th>\n",
       "      <th>RegionType</th>\n",
       "      <th>StateName</th>\n",
       "      <th>Price</th>\n",
       "    </tr>\n",
       "    <tr>\n",
       "      <th>Date</th>\n",
       "      <th></th>\n",
       "      <th></th>\n",
       "      <th></th>\n",
       "      <th></th>\n",
       "      <th></th>\n",
       "      <th></th>\n",
       "    </tr>\n",
       "  </thead>\n",
       "  <tbody>\n",
       "    <tr>\n",
       "      <th>2000-01-31</th>\n",
       "      <td>394913</td>\n",
       "      <td>1</td>\n",
       "      <td>New York, NY</td>\n",
       "      <td>Msa</td>\n",
       "      <td>NY</td>\n",
       "      <td>223875.0</td>\n",
       "    </tr>\n",
       "    <tr>\n",
       "      <th>2000-01-31</th>\n",
       "      <td>753899</td>\n",
       "      <td>2</td>\n",
       "      <td>Los Angeles-Long Beach-Anaheim, CA</td>\n",
       "      <td>Msa</td>\n",
       "      <td>CA</td>\n",
       "      <td>231151.0</td>\n",
       "    </tr>\n",
       "    <tr>\n",
       "      <th>2000-01-31</th>\n",
       "      <td>394463</td>\n",
       "      <td>3</td>\n",
       "      <td>Chicago, IL</td>\n",
       "      <td>Msa</td>\n",
       "      <td>IL</td>\n",
       "      <td>169017.0</td>\n",
       "    </tr>\n",
       "    <tr>\n",
       "      <th>2000-01-31</th>\n",
       "      <td>394514</td>\n",
       "      <td>4</td>\n",
       "      <td>Dallas-Fort Worth, TX</td>\n",
       "      <td>Msa</td>\n",
       "      <td>TX</td>\n",
       "      <td>130276.0</td>\n",
       "    </tr>\n",
       "    <tr>\n",
       "      <th>2000-01-31</th>\n",
       "      <td>394974</td>\n",
       "      <td>5</td>\n",
       "      <td>Philadelphia, PA</td>\n",
       "      <td>Msa</td>\n",
       "      <td>PA</td>\n",
       "      <td>129615.0</td>\n",
       "    </tr>\n",
       "  </tbody>\n",
       "</table>\n",
       "</div>"
      ],
      "text/plain": [
       "            RegionID  SizeRank                          RegionName RegionType  \\\n",
       "Date                                                                            \n",
       "2000-01-31    394913         1                        New York, NY        Msa   \n",
       "2000-01-31    753899         2  Los Angeles-Long Beach-Anaheim, CA        Msa   \n",
       "2000-01-31    394463         3                         Chicago, IL        Msa   \n",
       "2000-01-31    394514         4               Dallas-Fort Worth, TX        Msa   \n",
       "2000-01-31    394974         5                    Philadelphia, PA        Msa   \n",
       "\n",
       "           StateName     Price  \n",
       "Date                            \n",
       "2000-01-31        NY  223875.0  \n",
       "2000-01-31        CA  231151.0  \n",
       "2000-01-31        IL  169017.0  \n",
       "2000-01-31        TX  130276.0  \n",
       "2000-01-31        PA  129615.0  "
      ]
     },
     "execution_count": 41,
     "metadata": {},
     "output_type": "execute_result"
    }
   ],
   "source": [
    "#impute missing values using interpolation method\n",
    "\n",
    "interpolated = df_gaps.interpolate(method='linear')\n",
    "interpolated.head()"
   ]
  },
  {
   "cell_type": "code",
   "execution_count": 42,
   "metadata": {},
   "outputs": [
    {
     "data": {
      "text/plain": [
       "RegionID      0\n",
       "SizeRank      0\n",
       "RegionName    0\n",
       "RegionType    0\n",
       "StateName     0\n",
       "Price         0\n",
       "dtype: int64"
      ]
     },
     "execution_count": 42,
     "metadata": {},
     "output_type": "execute_result"
    }
   ],
   "source": [
    "#no missing values \n",
    "\n",
    "interpolated.isna().sum()"
   ]
  },
  {
   "cell_type": "code",
   "execution_count": 43,
   "metadata": {},
   "outputs": [
    {
     "name": "stdout",
     "output_type": "stream",
     "text": [
      "           column_name  percent_missing\n",
      "RegionID      RegionID              0.0\n",
      "SizeRank      SizeRank              0.0\n",
      "RegionName  RegionName              0.0\n",
      "RegionType  RegionType              0.0\n",
      "StateName    StateName              0.0\n",
      "Price            Price              0.0\n"
     ]
    }
   ],
   "source": [
    "#percent missing values by each column\n",
    "\n",
    "percentage_missing = interpolated.isnull().sum() * 100 / len(interpolated)\n",
    "missing_value = pd.DataFrame({'column_name': interpolated.columns,\n",
    "                                 'percent_missing': percentage_missing})\n",
    "missing_value.sort_values('percent_missing', inplace=True)\n",
    "print(missing_value)"
   ]
  },
  {
   "cell_type": "code",
   "execution_count": 66,
   "metadata": {},
   "outputs": [
    {
     "data": {
      "text/html": [
       "<div>\n",
       "<style scoped>\n",
       "    .dataframe tbody tr th:only-of-type {\n",
       "        vertical-align: middle;\n",
       "    }\n",
       "\n",
       "    .dataframe tbody tr th {\n",
       "        vertical-align: top;\n",
       "    }\n",
       "\n",
       "    .dataframe thead th {\n",
       "        text-align: right;\n",
       "    }\n",
       "</style>\n",
       "<table border=\"1\" class=\"dataframe\">\n",
       "  <thead>\n",
       "    <tr style=\"text-align: right;\">\n",
       "      <th></th>\n",
       "      <th>Price</th>\n",
       "    </tr>\n",
       "    <tr>\n",
       "      <th>RegionName</th>\n",
       "      <th></th>\n",
       "    </tr>\n",
       "  </thead>\n",
       "  <tbody>\n",
       "    <tr>\n",
       "      <th>Aberdeen, SD</th>\n",
       "      <td>131921.124585</td>\n",
       "    </tr>\n",
       "    <tr>\n",
       "      <th>Aberdeen, WA</th>\n",
       "      <td>194096.368061</td>\n",
       "    </tr>\n",
       "    <tr>\n",
       "      <th>Abilene, TX</th>\n",
       "      <td>134786.818931</td>\n",
       "    </tr>\n",
       "    <tr>\n",
       "      <th>Ada, OK</th>\n",
       "      <td>80116.889734</td>\n",
       "    </tr>\n",
       "    <tr>\n",
       "      <th>Adrian, MI</th>\n",
       "      <td>133173.357414</td>\n",
       "    </tr>\n",
       "    <tr>\n",
       "      <th>...</th>\n",
       "      <td>...</td>\n",
       "    </tr>\n",
       "    <tr>\n",
       "      <th>Big Stone Gap, VA</th>\n",
       "      <td>90701.484791</td>\n",
       "    </tr>\n",
       "    <tr>\n",
       "      <th>Billings, MT</th>\n",
       "      <td>189141.785171</td>\n",
       "    </tr>\n",
       "    <tr>\n",
       "      <th>Binghamton, NY</th>\n",
       "      <td>106751.771863</td>\n",
       "    </tr>\n",
       "    <tr>\n",
       "      <th>Birmingham, AL</th>\n",
       "      <td>147310.996198</td>\n",
       "    </tr>\n",
       "    <tr>\n",
       "      <th>Bismarck, ND</th>\n",
       "      <td>184398.741445</td>\n",
       "    </tr>\n",
       "  </tbody>\n",
       "</table>\n",
       "<p>90 rows × 1 columns</p>\n",
       "</div>"
      ],
      "text/plain": [
       "                           Price\n",
       "RegionName                      \n",
       "Aberdeen, SD       131921.124585\n",
       "Aberdeen, WA       194096.368061\n",
       "Abilene, TX        134786.818931\n",
       "Ada, OK             80116.889734\n",
       "Adrian, MI         133173.357414\n",
       "...                          ...\n",
       "Big Stone Gap, VA   90701.484791\n",
       "Billings, MT       189141.785171\n",
       "Binghamton, NY     106751.771863\n",
       "Birmingham, AL     147310.996198\n",
       "Bismarck, ND       184398.741445\n",
       "\n",
       "[90 rows x 1 columns]"
      ]
     },
     "execution_count": 66,
     "metadata": {},
     "output_type": "execute_result"
    }
   ],
   "source": [
    "#Distribution of price by RegionName\n",
    "region_price_means = interpolated.groupby(\"RegionName\")[['Price']].mean()\n",
    "region_price_means.head(90)"
   ]
  },
  {
   "cell_type": "code",
   "execution_count": 59,
   "metadata": {},
   "outputs": [
    {
     "data": {
      "text/html": [
       "<div>\n",
       "<style scoped>\n",
       "    .dataframe tbody tr th:only-of-type {\n",
       "        vertical-align: middle;\n",
       "    }\n",
       "\n",
       "    .dataframe tbody tr th {\n",
       "        vertical-align: top;\n",
       "    }\n",
       "\n",
       "    .dataframe thead th {\n",
       "        text-align: right;\n",
       "    }\n",
       "</style>\n",
       "<table border=\"1\" class=\"dataframe\">\n",
       "  <thead>\n",
       "    <tr style=\"text-align: right;\">\n",
       "      <th></th>\n",
       "      <th>count</th>\n",
       "      <th>mean</th>\n",
       "      <th>std</th>\n",
       "      <th>min</th>\n",
       "      <th>25%</th>\n",
       "      <th>50%</th>\n",
       "      <th>75%</th>\n",
       "      <th>max</th>\n",
       "    </tr>\n",
       "  </thead>\n",
       "  <tbody>\n",
       "    <tr>\n",
       "      <th>RegionID</th>\n",
       "      <td>238541.0</td>\n",
       "      <td>415361.502756</td>\n",
       "      <td>83488.890005</td>\n",
       "      <td>394297.0</td>\n",
       "      <td>394548.0</td>\n",
       "      <td>394804.0</td>\n",
       "      <td>395050.0</td>\n",
       "      <td>753929.0</td>\n",
       "    </tr>\n",
       "    <tr>\n",
       "      <th>SizeRank</th>\n",
       "      <td>238541.0</td>\n",
       "      <td>458.604190</td>\n",
       "      <td>267.525459</td>\n",
       "      <td>1.0</td>\n",
       "      <td>227.0</td>\n",
       "      <td>455.0</td>\n",
       "      <td>687.0</td>\n",
       "      <td>933.0</td>\n",
       "    </tr>\n",
       "    <tr>\n",
       "      <th>Price</th>\n",
       "      <td>238541.0</td>\n",
       "      <td>154240.877113</td>\n",
       "      <td>98655.340633</td>\n",
       "      <td>28481.0</td>\n",
       "      <td>95525.0</td>\n",
       "      <td>126544.0</td>\n",
       "      <td>179056.0</td>\n",
       "      <td>1506129.0</td>\n",
       "    </tr>\n",
       "  </tbody>\n",
       "</table>\n",
       "</div>"
      ],
      "text/plain": [
       "             count           mean           std       min       25%       50%  \\\n",
       "RegionID  238541.0  415361.502756  83488.890005  394297.0  394548.0  394804.0   \n",
       "SizeRank  238541.0     458.604190    267.525459       1.0     227.0     455.0   \n",
       "Price     238541.0  154240.877113  98655.340633   28481.0   95525.0  126544.0   \n",
       "\n",
       "               75%        max  \n",
       "RegionID  395050.0   753929.0  \n",
       "SizeRank     687.0      933.0  \n",
       "Price     179056.0  1506129.0  "
      ]
     },
     "execution_count": 59,
     "metadata": {},
     "output_type": "execute_result"
    }
   ],
   "source": [
    "# statistical summary of all the numerical columns\n",
    "\n",
    "interpolated.describe().T"
   ]
  },
  {
   "cell_type": "code",
   "execution_count": 44,
   "metadata": {},
   "outputs": [],
   "source": [
    "interpolated.to_excel('output1.xlsx', engine='xlsxwriter') "
   ]
  }
 ],
 "metadata": {
  "kernelspec": {
   "display_name": "Python 3",
   "language": "python",
   "name": "python3"
  },
  "language_info": {
   "codemirror_mode": {
    "name": "ipython",
    "version": 3
   },
   "file_extension": ".py",
   "mimetype": "text/x-python",
   "name": "python",
   "nbconvert_exporter": "python",
   "pygments_lexer": "ipython3",
   "version": "3.7.6"
  }
 },
 "nbformat": 4,
 "nbformat_minor": 4
}
